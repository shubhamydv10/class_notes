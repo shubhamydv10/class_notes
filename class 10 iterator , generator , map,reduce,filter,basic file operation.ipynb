{
 "cells": [
  {
   "cell_type": "code",
   "execution_count": 1,
   "id": "dc533a6c",
   "metadata": {},
   "outputs": [],
   "source": [
    "l = [1,3,4,5,5]"
   ]
  },
  {
   "cell_type": "code",
   "execution_count": 2,
   "id": "f396c5ba",
   "metadata": {},
   "outputs": [
    {
     "name": "stdout",
     "output_type": "stream",
     "text": [
      "1\n",
      "3\n",
      "4\n",
      "5\n",
      "5\n"
     ]
    }
   ],
   "source": [
    "for i in l:\n",
    "    print(i)"
   ]
  },
  {
   "cell_type": "code",
   "execution_count": 4,
   "id": "d6deea16",
   "metadata": {},
   "outputs": [
    {
     "ename": "TypeError",
     "evalue": "'list' object is not an iterator",
     "output_type": "error",
     "traceback": [
      "\u001b[1;31m---------------------------------------------------------------------------\u001b[0m",
      "\u001b[1;31mTypeError\u001b[0m                                 Traceback (most recent call last)",
      "Input \u001b[1;32mIn [4]\u001b[0m, in \u001b[0;36m<cell line: 1>\u001b[1;34m()\u001b[0m\n\u001b[1;32m----> 1\u001b[0m \u001b[38;5;28;43mnext\u001b[39;49m\u001b[43m(\u001b[49m\u001b[43ml\u001b[49m\u001b[43m)\u001b[49m\n",
      "\u001b[1;31mTypeError\u001b[0m: 'list' object is not an iterator"
     ]
    }
   ],
   "source": [
    "next(l) #extracr info one by one and give it to you"
   ]
  },
  {
   "cell_type": "code",
   "execution_count": 5,
   "id": "b29b4f53",
   "metadata": {},
   "outputs": [],
   "source": [
    "b = iter(l)"
   ]
  },
  {
   "cell_type": "code",
   "execution_count": 6,
   "id": "8950e637",
   "metadata": {},
   "outputs": [
    {
     "data": {
      "text/plain": [
       "1"
      ]
     },
     "execution_count": 6,
     "metadata": {},
     "output_type": "execute_result"
    }
   ],
   "source": [
    "next(b)"
   ]
  },
  {
   "cell_type": "code",
   "execution_count": 7,
   "id": "a061a40f",
   "metadata": {},
   "outputs": [
    {
     "data": {
      "text/plain": [
       "3"
      ]
     },
     "execution_count": 7,
     "metadata": {},
     "output_type": "execute_result"
    }
   ],
   "source": [
    "next(b)"
   ]
  },
  {
   "cell_type": "code",
   "execution_count": 8,
   "id": "6a870a4f",
   "metadata": {},
   "outputs": [
    {
     "data": {
      "text/plain": [
       "4"
      ]
     },
     "execution_count": 8,
     "metadata": {},
     "output_type": "execute_result"
    }
   ],
   "source": [
    "next(b)"
   ]
  },
  {
   "cell_type": "code",
   "execution_count": 9,
   "id": "b973dc56",
   "metadata": {},
   "outputs": [
    {
     "data": {
      "text/plain": [
       "5"
      ]
     },
     "execution_count": 9,
     "metadata": {},
     "output_type": "execute_result"
    }
   ],
   "source": [
    "next(b)"
   ]
  },
  {
   "cell_type": "code",
   "execution_count": 10,
   "id": "32bbcf3d",
   "metadata": {},
   "outputs": [
    {
     "data": {
      "text/plain": [
       "5"
      ]
     },
     "execution_count": 10,
     "metadata": {},
     "output_type": "execute_result"
    }
   ],
   "source": [
    "next(b)"
   ]
  },
  {
   "cell_type": "code",
   "execution_count": 11,
   "id": "cacb93a8",
   "metadata": {},
   "outputs": [
    {
     "ename": "StopIteration",
     "evalue": "",
     "output_type": "error",
     "traceback": [
      "\u001b[1;31m---------------------------------------------------------------------------\u001b[0m",
      "\u001b[1;31mStopIteration\u001b[0m                             Traceback (most recent call last)",
      "Input \u001b[1;32mIn [11]\u001b[0m, in \u001b[0;36m<cell line: 1>\u001b[1;34m()\u001b[0m\n\u001b[1;32m----> 1\u001b[0m \u001b[38;5;28;43mnext\u001b[39;49m\u001b[43m(\u001b[49m\u001b[43mb\u001b[49m\u001b[43m)\u001b[49m\n",
      "\u001b[1;31mStopIteration\u001b[0m: "
     ]
    }
   ],
   "source": [
    "next(b)"
   ]
  },
  {
   "cell_type": "code",
   "execution_count": 12,
   "id": "d3a17b43",
   "metadata": {},
   "outputs": [
    {
     "ename": "TypeError",
     "evalue": "'int' object is not an iterator",
     "output_type": "error",
     "traceback": [
      "\u001b[1;31m---------------------------------------------------------------------------\u001b[0m",
      "\u001b[1;31mTypeError\u001b[0m                                 Traceback (most recent call last)",
      "Input \u001b[1;32mIn [12]\u001b[0m, in \u001b[0;36m<cell line: 1>\u001b[1;34m()\u001b[0m\n\u001b[1;32m----> 1\u001b[0m \u001b[38;5;28;43mnext\u001b[39;49m\u001b[43m(\u001b[49m\u001b[38;5;241;43m45\u001b[39;49m\u001b[43m)\u001b[49m\n",
      "\u001b[1;31mTypeError\u001b[0m: 'int' object is not an iterator"
     ]
    }
   ],
   "source": [
    "next(45)"
   ]
  },
  {
   "cell_type": "code",
   "execution_count": 13,
   "id": "538cd9f5",
   "metadata": {},
   "outputs": [
    {
     "ename": "TypeError",
     "evalue": "'int' object is not iterable",
     "output_type": "error",
     "traceback": [
      "\u001b[1;31m---------------------------------------------------------------------------\u001b[0m",
      "\u001b[1;31mTypeError\u001b[0m                                 Traceback (most recent call last)",
      "Input \u001b[1;32mIn [13]\u001b[0m, in \u001b[0;36m<cell line: 1>\u001b[1;34m()\u001b[0m\n\u001b[1;32m----> 1\u001b[0m \u001b[38;5;28;43miter\u001b[39;49m\u001b[43m(\u001b[49m\u001b[38;5;241;43m45\u001b[39;49m\u001b[43m)\u001b[49m\n",
      "\u001b[1;31mTypeError\u001b[0m: 'int' object is not iterable"
     ]
    }
   ],
   "source": [
    "iter(45)"
   ]
  },
  {
   "cell_type": "code",
   "execution_count": 14,
   "id": "135096a6",
   "metadata": {},
   "outputs": [
    {
     "ename": "TypeError",
     "evalue": "'int' object is not iterable",
     "output_type": "error",
     "traceback": [
      "\u001b[1;31m---------------------------------------------------------------------------\u001b[0m",
      "\u001b[1;31mTypeError\u001b[0m                                 Traceback (most recent call last)",
      "Input \u001b[1;32mIn [14]\u001b[0m, in \u001b[0;36m<cell line: 1>\u001b[1;34m()\u001b[0m\n\u001b[1;32m----> 1\u001b[0m \u001b[38;5;28;01mfor\u001b[39;00m i \u001b[38;5;129;01min\u001b[39;00m \u001b[38;5;241m45456456\u001b[39m:\n\u001b[0;32m      2\u001b[0m     \u001b[38;5;28mprint\u001b[39m(i)\n",
      "\u001b[1;31mTypeError\u001b[0m: 'int' object is not iterable"
     ]
    }
   ],
   "source": [
    "for i in 45456456:\n",
    "    print(i)"
   ]
  },
  {
   "cell_type": "code",
   "execution_count": 15,
   "id": "b72e2281",
   "metadata": {},
   "outputs": [
    {
     "data": {
      "text/plain": [
       "[1, 3, 4, 5, 5]"
      ]
     },
     "execution_count": 15,
     "metadata": {},
     "output_type": "execute_result"
    }
   ],
   "source": [
    "l"
   ]
  },
  {
   "cell_type": "code",
   "execution_count": 16,
   "id": "03cb625c",
   "metadata": {},
   "outputs": [
    {
     "name": "stdout",
     "output_type": "stream",
     "text": [
      "1\n",
      "3\n",
      "4\n",
      "5\n",
      "5\n"
     ]
    }
   ],
   "source": [
    "for i in l:\n",
    "    print(i)"
   ]
  },
  {
   "cell_type": "code",
   "execution_count": 17,
   "id": "1fe2fa52",
   "metadata": {},
   "outputs": [],
   "source": [
    "s = \"sudh\""
   ]
  },
  {
   "cell_type": "code",
   "execution_count": 18,
   "id": "a9eec672",
   "metadata": {},
   "outputs": [],
   "source": [
    "c = iter(s)"
   ]
  },
  {
   "cell_type": "code",
   "execution_count": 19,
   "id": "57f20513",
   "metadata": {},
   "outputs": [
    {
     "data": {
      "text/plain": [
       "'s'"
      ]
     },
     "execution_count": 19,
     "metadata": {},
     "output_type": "execute_result"
    }
   ],
   "source": [
    "next(c)"
   ]
  },
  {
   "cell_type": "code",
   "execution_count": 20,
   "id": "166fdc15",
   "metadata": {},
   "outputs": [
    {
     "data": {
      "text/plain": [
       "'u'"
      ]
     },
     "execution_count": 20,
     "metadata": {},
     "output_type": "execute_result"
    }
   ],
   "source": [
    "next(c)"
   ]
  },
  {
   "cell_type": "code",
   "execution_count": 21,
   "id": "48de008e",
   "metadata": {},
   "outputs": [
    {
     "data": {
      "text/plain": [
       "'d'"
      ]
     },
     "execution_count": 21,
     "metadata": {},
     "output_type": "execute_result"
    }
   ],
   "source": [
    "next(c)"
   ]
  },
  {
   "cell_type": "code",
   "execution_count": 22,
   "id": "9a21452b",
   "metadata": {},
   "outputs": [
    {
     "data": {
      "text/plain": [
       "'h'"
      ]
     },
     "execution_count": 22,
     "metadata": {},
     "output_type": "execute_result"
    }
   ],
   "source": [
    "next(c)"
   ]
  },
  {
   "cell_type": "code",
   "execution_count": 23,
   "id": "ae2e6e2c",
   "metadata": {},
   "outputs": [
    {
     "ename": "StopIteration",
     "evalue": "",
     "output_type": "error",
     "traceback": [
      "\u001b[1;31m---------------------------------------------------------------------------\u001b[0m",
      "\u001b[1;31mStopIteration\u001b[0m                             Traceback (most recent call last)",
      "Input \u001b[1;32mIn [23]\u001b[0m, in \u001b[0;36m<cell line: 1>\u001b[1;34m()\u001b[0m\n\u001b[1;32m----> 1\u001b[0m \u001b[38;5;28;43mnext\u001b[39;49m\u001b[43m(\u001b[49m\u001b[43mc\u001b[49m\u001b[43m)\u001b[49m\n",
      "\u001b[1;31mStopIteration\u001b[0m: "
     ]
    }
   ],
   "source": [
    "next(c)"
   ]
  },
  {
   "cell_type": "code",
   "execution_count": 24,
   "id": "7a73d255",
   "metadata": {},
   "outputs": [],
   "source": [
    "t = (5,6,7,8,9)"
   ]
  },
  {
   "cell_type": "code",
   "execution_count": 25,
   "id": "1feffbef",
   "metadata": {},
   "outputs": [],
   "source": [
    "d = iter(t)"
   ]
  },
  {
   "cell_type": "code",
   "execution_count": 26,
   "id": "3ae2bfd8",
   "metadata": {},
   "outputs": [
    {
     "data": {
      "text/plain": [
       "5"
      ]
     },
     "execution_count": 26,
     "metadata": {},
     "output_type": "execute_result"
    }
   ],
   "source": [
    "next(d)"
   ]
  },
  {
   "cell_type": "code",
   "execution_count": 27,
   "id": "7e8c551d",
   "metadata": {},
   "outputs": [
    {
     "data": {
      "text/plain": [
       "6"
      ]
     },
     "execution_count": 27,
     "metadata": {},
     "output_type": "execute_result"
    }
   ],
   "source": [
    "next(d)"
   ]
  },
  {
   "cell_type": "code",
   "execution_count": 28,
   "id": "579f68fc",
   "metadata": {},
   "outputs": [
    {
     "data": {
      "text/plain": [
       "7"
      ]
     },
     "execution_count": 28,
     "metadata": {},
     "output_type": "execute_result"
    }
   ],
   "source": [
    "next(d)"
   ]
  },
  {
   "cell_type": "code",
   "execution_count": 29,
   "id": "1b231759",
   "metadata": {},
   "outputs": [
    {
     "data": {
      "text/plain": [
       "8"
      ]
     },
     "execution_count": 29,
     "metadata": {},
     "output_type": "execute_result"
    }
   ],
   "source": [
    "next(d)"
   ]
  },
  {
   "cell_type": "code",
   "execution_count": 30,
   "id": "b219ba05",
   "metadata": {},
   "outputs": [
    {
     "data": {
      "text/plain": [
       "9"
      ]
     },
     "execution_count": 30,
     "metadata": {},
     "output_type": "execute_result"
    }
   ],
   "source": [
    "next(d)"
   ]
  },
  {
   "cell_type": "code",
   "execution_count": 31,
   "id": "e39b99f1",
   "metadata": {},
   "outputs": [
    {
     "data": {
      "text/plain": [
       "[1, 2, 3, 4, 5, 6, 7, 8, 9]"
      ]
     },
     "execution_count": 31,
     "metadata": {},
     "output_type": "execute_result"
    }
   ],
   "source": [
    "list(range(1,10))"
   ]
  },
  {
   "cell_type": "code",
   "execution_count": 32,
   "id": "3efdaadf",
   "metadata": {},
   "outputs": [],
   "source": [
    "def sq_fn(n):\n",
    "    x = [i*i for i in range(n)]\n",
    "    return x"
   ]
  },
  {
   "cell_type": "code",
   "execution_count": 33,
   "id": "64f10c6f",
   "metadata": {},
   "outputs": [
    {
     "data": {
      "text/plain": [
       "[0, 1, 4, 9]"
      ]
     },
     "execution_count": 33,
     "metadata": {},
     "output_type": "execute_result"
    }
   ],
   "source": [
    "sq_fn(4)"
   ]
  },
  {
   "cell_type": "code",
   "execution_count": 34,
   "id": "b133c4f0",
   "metadata": {},
   "outputs": [
    {
     "data": {
      "text/plain": [
       "[0, 1, 2, 3]"
      ]
     },
     "execution_count": 34,
     "metadata": {},
     "output_type": "execute_result"
    }
   ],
   "source": [
    "list(range(4))"
   ]
  },
  {
   "cell_type": "code",
   "execution_count": 35,
   "id": "327c2330",
   "metadata": {},
   "outputs": [],
   "source": [
    "def sq_fn1(n):\n",
    "    x = [i*i for i in range(n)]\n",
    "    yield x"
   ]
  },
  {
   "cell_type": "code",
   "execution_count": 36,
   "id": "a4a22469",
   "metadata": {},
   "outputs": [
    {
     "data": {
      "text/plain": [
       "<generator object sq_fn1 at 0x000001BDC4B00510>"
      ]
     },
     "execution_count": 36,
     "metadata": {},
     "output_type": "execute_result"
    }
   ],
   "source": [
    "sq_fn1(4) #it will return an object of the function which is a genetrator object"
   ]
  },
  {
   "cell_type": "code",
   "execution_count": 37,
   "id": "bdb625d2",
   "metadata": {},
   "outputs": [
    {
     "name": "stdout",
     "output_type": "stream",
     "text": [
      "[0, 1, 4, 9]\n"
     ]
    }
   ],
   "source": [
    "for i in sq_fn1(4):\n",
    "    print(i)"
   ]
  },
  {
   "cell_type": "code",
   "execution_count": 38,
   "id": "d0d0aa89",
   "metadata": {},
   "outputs": [
    {
     "data": {
      "text/plain": [
       "[0, 1, 4, 9]"
      ]
     },
     "execution_count": 38,
     "metadata": {},
     "output_type": "execute_result"
    }
   ],
   "source": [
    "next(sq_fn1(4))"
   ]
  },
  {
   "cell_type": "code",
   "execution_count": 39,
   "id": "9bcdfe7f",
   "metadata": {},
   "outputs": [],
   "source": [
    "i = iter(range(4))"
   ]
  },
  {
   "cell_type": "code",
   "execution_count": 40,
   "id": "5c7c7981",
   "metadata": {},
   "outputs": [
    {
     "data": {
      "text/plain": [
       "0"
      ]
     },
     "execution_count": 40,
     "metadata": {},
     "output_type": "execute_result"
    }
   ],
   "source": [
    "next(i)"
   ]
  },
  {
   "cell_type": "code",
   "execution_count": 41,
   "id": "1682d275",
   "metadata": {},
   "outputs": [
    {
     "data": {
      "text/plain": [
       "1"
      ]
     },
     "execution_count": 41,
     "metadata": {},
     "output_type": "execute_result"
    }
   ],
   "source": [
    "next(i)"
   ]
  },
  {
   "cell_type": "code",
   "execution_count": 42,
   "id": "7080471e",
   "metadata": {},
   "outputs": [
    {
     "data": {
      "text/plain": [
       "2"
      ]
     },
     "execution_count": 42,
     "metadata": {},
     "output_type": "execute_result"
    }
   ],
   "source": [
    "next(i)"
   ]
  },
  {
   "cell_type": "code",
   "execution_count": 43,
   "id": "8db275fa",
   "metadata": {},
   "outputs": [
    {
     "data": {
      "text/plain": [
       "3"
      ]
     },
     "execution_count": 43,
     "metadata": {},
     "output_type": "execute_result"
    }
   ],
   "source": [
    "next(i)"
   ]
  },
  {
   "cell_type": "code",
   "execution_count": 44,
   "id": "a1c842a5",
   "metadata": {},
   "outputs": [
    {
     "ename": "StopIteration",
     "evalue": "",
     "output_type": "error",
     "traceback": [
      "\u001b[1;31m---------------------------------------------------------------------------\u001b[0m",
      "\u001b[1;31mStopIteration\u001b[0m                             Traceback (most recent call last)",
      "Input \u001b[1;32mIn [44]\u001b[0m, in \u001b[0;36m<cell line: 1>\u001b[1;34m()\u001b[0m\n\u001b[1;32m----> 1\u001b[0m \u001b[38;5;28;43mnext\u001b[39;49m\u001b[43m(\u001b[49m\u001b[43mi\u001b[49m\u001b[43m)\u001b[49m\n",
      "\u001b[1;31mStopIteration\u001b[0m: "
     ]
    }
   ],
   "source": [
    "next(i)"
   ]
  },
  {
   "cell_type": "code",
   "execution_count": 45,
   "id": "34f8f36f",
   "metadata": {},
   "outputs": [],
   "source": [
    "def genfib(n):        #fibonaic series\n",
    "    a=1\n",
    "    b=1\n",
    "    l=[]\n",
    "    for i in range(n):\n",
    "        l.append(a)\n",
    "        a,b = b,a+b\n",
    "    return l"
   ]
  },
  {
   "cell_type": "code",
   "execution_count": 46,
   "id": "671bb2d9",
   "metadata": {},
   "outputs": [
    {
     "data": {
      "text/plain": [
       "[1, 1, 2, 3, 5, 8, 13, 21, 34, 55]"
      ]
     },
     "execution_count": 46,
     "metadata": {},
     "output_type": "execute_result"
    }
   ],
   "source": [
    "genfib(10)"
   ]
  },
  {
   "cell_type": "code",
   "execution_count": 47,
   "id": "eea67b71",
   "metadata": {},
   "outputs": [],
   "source": [
    "def genfib1(n):        #fibonaic series\n",
    "    a=1\n",
    "    b=1\n",
    "    for i in range(n):\n",
    "        yield a\n",
    "        a,b = b,a+b\n"
   ]
  },
  {
   "cell_type": "code",
   "execution_count": 48,
   "id": "4a7c04d9",
   "metadata": {},
   "outputs": [
    {
     "data": {
      "text/plain": [
       "<generator object genfib1 at 0x000001BDC4B00BA0>"
      ]
     },
     "execution_count": 48,
     "metadata": {},
     "output_type": "execute_result"
    }
   ],
   "source": [
    "genfib1(10)"
   ]
  },
  {
   "cell_type": "code",
   "execution_count": 49,
   "id": "f42089e4",
   "metadata": {},
   "outputs": [
    {
     "name": "stdout",
     "output_type": "stream",
     "text": [
      "1\n",
      "1\n",
      "2\n",
      "3\n",
      "5\n",
      "8\n",
      "13\n",
      "21\n",
      "34\n",
      "55\n"
     ]
    }
   ],
   "source": [
    "for i in genfib1(10):\n",
    "    print(i)"
   ]
  },
  {
   "cell_type": "code",
   "execution_count": 50,
   "id": "0e6cfdf0",
   "metadata": {},
   "outputs": [],
   "source": [
    "#file operation"
   ]
  },
  {
   "cell_type": "code",
   "execution_count": 51,
   "id": "6eed2247",
   "metadata": {},
   "outputs": [],
   "source": [
    "f = open(\"sudh1.txt\",'w')"
   ]
  },
  {
   "cell_type": "code",
   "execution_count": 52,
   "id": "26440b90",
   "metadata": {},
   "outputs": [
    {
     "name": "stdout",
     "output_type": "stream",
     "text": [
      " Volume in drive C has no label.\n",
      " Volume Serial Number is 7A97-FC3B\n",
      "\n",
      " Directory of C:\\Users\\Shubham\n",
      "\n",
      "15-06-2022  01:56 PM            38,648  class 2 string class.ipynb\n",
      "22-06-2022  11:19 PM    <DIR>          .\n",
      "22-06-2022  11:19 PM    <DIR>          ..\n",
      "15-08-2020  11:51 PM    <DIR>          .AndroidStudio4.0\n",
      "01-06-2022  12:47 PM    <DIR>          .conda\n",
      "01-06-2022  11:55 AM                25 .condarc\n",
      "01-06-2022  11:54 AM    <DIR>          .continuum\n",
      "22-12-2020  02:31 PM    <DIR>          .eclipse\n",
      "30-07-2020  11:07 PM    <DIR>          .idlerc\n",
      "22-06-2022  12:00 AM    <DIR>          .ipynb_checkpoints\n",
      "01-06-2022  12:00 PM    <DIR>          .ipython\n",
      "01-06-2022  12:28 PM    <DIR>          .jupyter\n",
      "13-07-2020  02:50 PM    <DIR>          .openjfx\n",
      "29-04-2022  12:17 AM    <DIR>          .p2\n",
      "05-05-2022  12:01 AM    <DIR>          .pylint.d\n",
      "22-12-2020  02:31 PM    <DIR>          .tooling\n",
      "30-03-2019  07:53 PM    <DIR>          .ueli\n",
      "31-08-2020  12:39 AM    <DIR>          .VirtualBox\n",
      "24-07-2020  12:07 AM    <DIR>          .vscode\n",
      "31-01-2021  10:34 PM    <DIR>          3D Objects\n",
      "01-06-2022  12:39 AM    <DIR>          anaconda3\n",
      "29-10-2020  11:16 PM    <DIR>          ansel\n",
      "14-06-2022  11:47 AM             6,738 asgmt1.ipynb\n",
      "22-06-2022  11:19 PM            47,674 class 10 iterator , generator , map,reduce,filter,basic file operation.ipynb\n",
      "15-06-2022  11:53 PM            56,125 class 3 - list,tuple,dict,set.ipynb\n",
      "16-06-2022  04:02 PM            16,850 class 4 if else.ipynb\n",
      "19-06-2022  05:28 PM            22,467 class 5 loop.ipynb\n",
      "20-06-2022  12:48 AM            22,298 class 6 while loop and functions basic.ipynb\n",
      "13-06-2022  11:08 PM            19,192 class 8 functions.ipynb\n",
      "20-06-2022  11:53 PM            22,395 class 9 - exception handling.ipynb\n",
      "15-06-2022  12:57 PM            12,038 class1 python basics.ipynb\n",
      "31-01-2021  10:34 PM    <DIR>          Contacts\n",
      "30-04-2019  12:43 PM    <DIR>          DeskDock\n",
      "22-06-2022  06:19 PM    <DIR>          Desktop\n",
      "01-06-2022  12:38 AM    <DIR>          Documents\n",
      "22-06-2022  06:23 PM    <DIR>          Downloads\n",
      "22-12-2020  01:47 PM    <DIR>          eclipse\n",
      "22-12-2020  02:31 PM    <DIR>          eclipse-workspace\n",
      "31-01-2021  10:34 PM    <DIR>          Favorites\n",
      "29-04-2022  12:14 AM    <DIR>          IdeaProjects\n",
      "31-01-2021  10:34 PM    <DIR>          Links\n",
      "31-01-2021  10:34 PM    <DIR>          Music\n",
      "18-08-2020  11:37 PM    <DIR>          OneDrive\n",
      "31-01-2021  10:34 PM    <DIR>          Pictures\n",
      "20-06-2022  11:53 PM           102,067 practice book.ipynb\n",
      "19-06-2022  01:25 PM            46,057 Prg_Asmt_03.ipynb\n",
      "21-06-2022  02:24 PM             3,828 prg_asmt_4.ipynb\n",
      "22-05-2020  07:45 PM    <DIR>          PycharmProjects\n",
      "02-01-2020  02:33 PM    <DIR>          Roaming\n",
      "31-01-2021  10:34 PM    <DIR>          Saved Games\n",
      "31-01-2021  10:34 PM    <DIR>          Searches\n",
      "22-06-2022  11:20 PM                 0 sudh1.txt\n",
      "11-06-2022  01:17 PM            20,771 task (for loop).ipynb\n",
      "22-06-2022  11:58 AM               300 test5.txt\n",
      "22-06-2022  11:49 AM                12 text.sudh\n",
      "22-06-2022  11:43 AM                53 text1.txt\n",
      "22-06-2022  11:45 AM                56 text2.txt\n",
      "31-01-2021  10:34 PM    <DIR>          Videos\n",
      "29-07-2020  11:07 PM    <DIR>          VirtualBox VMs\n",
      "13-07-2020  02:53 PM    <DIR>          XiaomiADBFastbootTools\n",
      "              20 File(s)        437,594 bytes\n",
      "              40 Dir(s)  75,154,915,328 bytes free\n"
     ]
    }
   ],
   "source": [
    "ls"
   ]
  },
  {
   "cell_type": "code",
   "execution_count": 53,
   "id": "7a37c6f4",
   "metadata": {},
   "outputs": [
    {
     "data": {
      "text/plain": [
       "36"
      ]
     },
     "execution_count": 53,
     "metadata": {},
     "output_type": "execute_result"
    }
   ],
   "source": [
    "f.write(\"this is my very first file operation\")"
   ]
  },
  {
   "cell_type": "code",
   "execution_count": 54,
   "id": "38bdb4ac",
   "metadata": {},
   "outputs": [],
   "source": [
    "f.close()"
   ]
  },
  {
   "cell_type": "code",
   "execution_count": 55,
   "id": "8ed284bd",
   "metadata": {},
   "outputs": [
    {
     "name": "stdout",
     "output_type": "stream",
     "text": [
      " Volume in drive C has no label.\n",
      " Volume Serial Number is 7A97-FC3B\n",
      "\n",
      " Directory of C:\\Users\\Shubham\n",
      "\n",
      "15-06-2022  01:56 PM            38,648  class 2 string class.ipynb\n",
      "22-06-2022  11:19 PM    <DIR>          .\n",
      "22-06-2022  11:19 PM    <DIR>          ..\n",
      "15-08-2020  11:51 PM    <DIR>          .AndroidStudio4.0\n",
      "01-06-2022  12:47 PM    <DIR>          .conda\n",
      "01-06-2022  11:55 AM                25 .condarc\n",
      "01-06-2022  11:54 AM    <DIR>          .continuum\n",
      "22-12-2020  02:31 PM    <DIR>          .eclipse\n",
      "30-07-2020  11:07 PM    <DIR>          .idlerc\n",
      "22-06-2022  12:00 AM    <DIR>          .ipynb_checkpoints\n",
      "01-06-2022  12:00 PM    <DIR>          .ipython\n",
      "01-06-2022  12:28 PM    <DIR>          .jupyter\n",
      "13-07-2020  02:50 PM    <DIR>          .openjfx\n",
      "29-04-2022  12:17 AM    <DIR>          .p2\n",
      "05-05-2022  12:01 AM    <DIR>          .pylint.d\n",
      "22-12-2020  02:31 PM    <DIR>          .tooling\n",
      "30-03-2019  07:53 PM    <DIR>          .ueli\n",
      "31-08-2020  12:39 AM    <DIR>          .VirtualBox\n",
      "24-07-2020  12:07 AM    <DIR>          .vscode\n",
      "31-01-2021  10:34 PM    <DIR>          3D Objects\n",
      "01-06-2022  12:39 AM    <DIR>          anaconda3\n",
      "29-10-2020  11:16 PM    <DIR>          ansel\n",
      "14-06-2022  11:47 AM             6,738 asgmt1.ipynb\n",
      "22-06-2022  11:19 PM            47,674 class 10 iterator , generator , map,reduce,filter,basic file operation.ipynb\n",
      "15-06-2022  11:53 PM            56,125 class 3 - list,tuple,dict,set.ipynb\n",
      "16-06-2022  04:02 PM            16,850 class 4 if else.ipynb\n",
      "19-06-2022  05:28 PM            22,467 class 5 loop.ipynb\n",
      "20-06-2022  12:48 AM            22,298 class 6 while loop and functions basic.ipynb\n",
      "13-06-2022  11:08 PM            19,192 class 8 functions.ipynb\n",
      "20-06-2022  11:53 PM            22,395 class 9 - exception handling.ipynb\n",
      "15-06-2022  12:57 PM            12,038 class1 python basics.ipynb\n",
      "31-01-2021  10:34 PM    <DIR>          Contacts\n",
      "30-04-2019  12:43 PM    <DIR>          DeskDock\n",
      "22-06-2022  06:19 PM    <DIR>          Desktop\n",
      "01-06-2022  12:38 AM    <DIR>          Documents\n",
      "22-06-2022  06:23 PM    <DIR>          Downloads\n",
      "22-12-2020  01:47 PM    <DIR>          eclipse\n",
      "22-12-2020  02:31 PM    <DIR>          eclipse-workspace\n",
      "31-01-2021  10:34 PM    <DIR>          Favorites\n",
      "29-04-2022  12:14 AM    <DIR>          IdeaProjects\n",
      "31-01-2021  10:34 PM    <DIR>          Links\n",
      "31-01-2021  10:34 PM    <DIR>          Music\n",
      "18-08-2020  11:37 PM    <DIR>          OneDrive\n",
      "31-01-2021  10:34 PM    <DIR>          Pictures\n",
      "20-06-2022  11:53 PM           102,067 practice book.ipynb\n",
      "19-06-2022  01:25 PM            46,057 Prg_Asmt_03.ipynb\n",
      "21-06-2022  02:24 PM             3,828 prg_asmt_4.ipynb\n",
      "22-05-2020  07:45 PM    <DIR>          PycharmProjects\n",
      "02-01-2020  02:33 PM    <DIR>          Roaming\n",
      "31-01-2021  10:34 PM    <DIR>          Saved Games\n",
      "31-01-2021  10:34 PM    <DIR>          Searches\n",
      "22-06-2022  11:20 PM                36 sudh1.txt\n",
      "11-06-2022  01:17 PM            20,771 task (for loop).ipynb\n",
      "22-06-2022  11:58 AM               300 test5.txt\n",
      "22-06-2022  11:49 AM                12 text.sudh\n",
      "22-06-2022  11:43 AM                53 text1.txt\n",
      "22-06-2022  11:45 AM                56 text2.txt\n",
      "31-01-2021  10:34 PM    <DIR>          Videos\n",
      "29-07-2020  11:07 PM    <DIR>          VirtualBox VMs\n",
      "13-07-2020  02:53 PM    <DIR>          XiaomiADBFastbootTools\n",
      "              20 File(s)        437,630 bytes\n",
      "              40 Dir(s)  75,154,915,328 bytes free\n"
     ]
    }
   ],
   "source": [
    "ls"
   ]
  },
  {
   "cell_type": "code",
   "execution_count": 56,
   "id": "1a2dc7ea",
   "metadata": {},
   "outputs": [],
   "source": [
    "f1 = open(\"text1.txt\",\"w\")"
   ]
  },
  {
   "cell_type": "code",
   "execution_count": 57,
   "id": "29c199b0",
   "metadata": {},
   "outputs": [
    {
     "data": {
      "text/plain": [
       "53"
      ]
     },
     "execution_count": 57,
     "metadata": {},
     "output_type": "execute_result"
    }
   ],
   "source": [
    "f1.write(\"this is a file opertion me tryind to do in fsds class\")"
   ]
  },
  {
   "cell_type": "code",
   "execution_count": 58,
   "id": "6f9047bd",
   "metadata": {},
   "outputs": [
    {
     "name": "stdout",
     "output_type": "stream",
     "text": [
      " Volume in drive C has no label.\n",
      " Volume Serial Number is 7A97-FC3B\n",
      "\n",
      " Directory of C:\\Users\\Shubham\n",
      "\n",
      "15-06-2022  01:56 PM            38,648  class 2 string class.ipynb\n",
      "22-06-2022  11:19 PM    <DIR>          .\n",
      "22-06-2022  11:19 PM    <DIR>          ..\n",
      "15-08-2020  11:51 PM    <DIR>          .AndroidStudio4.0\n",
      "01-06-2022  12:47 PM    <DIR>          .conda\n",
      "01-06-2022  11:55 AM                25 .condarc\n",
      "01-06-2022  11:54 AM    <DIR>          .continuum\n",
      "22-12-2020  02:31 PM    <DIR>          .eclipse\n",
      "30-07-2020  11:07 PM    <DIR>          .idlerc\n",
      "22-06-2022  12:00 AM    <DIR>          .ipynb_checkpoints\n",
      "01-06-2022  12:00 PM    <DIR>          .ipython\n",
      "01-06-2022  12:28 PM    <DIR>          .jupyter\n",
      "13-07-2020  02:50 PM    <DIR>          .openjfx\n",
      "29-04-2022  12:17 AM    <DIR>          .p2\n",
      "05-05-2022  12:01 AM    <DIR>          .pylint.d\n",
      "22-12-2020  02:31 PM    <DIR>          .tooling\n",
      "30-03-2019  07:53 PM    <DIR>          .ueli\n",
      "31-08-2020  12:39 AM    <DIR>          .VirtualBox\n",
      "24-07-2020  12:07 AM    <DIR>          .vscode\n",
      "31-01-2021  10:34 PM    <DIR>          3D Objects\n",
      "01-06-2022  12:39 AM    <DIR>          anaconda3\n",
      "29-10-2020  11:16 PM    <DIR>          ansel\n",
      "14-06-2022  11:47 AM             6,738 asgmt1.ipynb\n",
      "22-06-2022  11:19 PM            47,674 class 10 iterator , generator , map,reduce,filter,basic file operation.ipynb\n",
      "15-06-2022  11:53 PM            56,125 class 3 - list,tuple,dict,set.ipynb\n",
      "16-06-2022  04:02 PM            16,850 class 4 if else.ipynb\n",
      "19-06-2022  05:28 PM            22,467 class 5 loop.ipynb\n",
      "20-06-2022  12:48 AM            22,298 class 6 while loop and functions basic.ipynb\n",
      "13-06-2022  11:08 PM            19,192 class 8 functions.ipynb\n",
      "20-06-2022  11:53 PM            22,395 class 9 - exception handling.ipynb\n",
      "15-06-2022  12:57 PM            12,038 class1 python basics.ipynb\n",
      "31-01-2021  10:34 PM    <DIR>          Contacts\n",
      "30-04-2019  12:43 PM    <DIR>          DeskDock\n",
      "22-06-2022  06:19 PM    <DIR>          Desktop\n",
      "01-06-2022  12:38 AM    <DIR>          Documents\n",
      "22-06-2022  06:23 PM    <DIR>          Downloads\n",
      "22-12-2020  01:47 PM    <DIR>          eclipse\n",
      "22-12-2020  02:31 PM    <DIR>          eclipse-workspace\n",
      "31-01-2021  10:34 PM    <DIR>          Favorites\n",
      "29-04-2022  12:14 AM    <DIR>          IdeaProjects\n",
      "31-01-2021  10:34 PM    <DIR>          Links\n",
      "31-01-2021  10:34 PM    <DIR>          Music\n",
      "18-08-2020  11:37 PM    <DIR>          OneDrive\n",
      "31-01-2021  10:34 PM    <DIR>          Pictures\n",
      "20-06-2022  11:53 PM           102,067 practice book.ipynb\n",
      "19-06-2022  01:25 PM            46,057 Prg_Asmt_03.ipynb\n",
      "21-06-2022  02:24 PM             3,828 prg_asmt_4.ipynb\n",
      "22-05-2020  07:45 PM    <DIR>          PycharmProjects\n",
      "02-01-2020  02:33 PM    <DIR>          Roaming\n",
      "31-01-2021  10:34 PM    <DIR>          Saved Games\n",
      "31-01-2021  10:34 PM    <DIR>          Searches\n",
      "22-06-2022  11:20 PM                36 sudh1.txt\n",
      "11-06-2022  01:17 PM            20,771 task (for loop).ipynb\n",
      "22-06-2022  11:58 AM               300 test5.txt\n",
      "22-06-2022  11:49 AM                12 text.sudh\n",
      "22-06-2022  11:20 PM                 0 text1.txt\n",
      "22-06-2022  11:45 AM                56 text2.txt\n",
      "31-01-2021  10:34 PM    <DIR>          Videos\n",
      "29-07-2020  11:07 PM    <DIR>          VirtualBox VMs\n",
      "13-07-2020  02:53 PM    <DIR>          XiaomiADBFastbootTools\n",
      "              20 File(s)        437,577 bytes\n",
      "              40 Dir(s)  75,154,915,328 bytes free\n"
     ]
    }
   ],
   "source": [
    "ls\n"
   ]
  },
  {
   "cell_type": "code",
   "execution_count": 59,
   "id": "a2c95f7b",
   "metadata": {},
   "outputs": [],
   "source": [
    "l= [1,2,3,4,5,6,7,67,6]"
   ]
  },
  {
   "cell_type": "code",
   "execution_count": 60,
   "id": "ee7fb56d",
   "metadata": {},
   "outputs": [],
   "source": [
    "f1.close()"
   ]
  },
  {
   "cell_type": "code",
   "execution_count": 61,
   "id": "80927c89",
   "metadata": {},
   "outputs": [],
   "source": [
    "f2 = open(\"text2.txt\", 'w')"
   ]
  },
  {
   "cell_type": "code",
   "execution_count": 62,
   "id": "68422f79",
   "metadata": {},
   "outputs": [
    {
     "data": {
      "text/plain": [
       "28"
      ]
     },
     "execution_count": 62,
     "metadata": {},
     "output_type": "execute_result"
    }
   ],
   "source": [
    "f2.write(str(l))"
   ]
  },
  {
   "cell_type": "code",
   "execution_count": 63,
   "id": "4e472a2e",
   "metadata": {},
   "outputs": [],
   "source": [
    "f2.close()"
   ]
  },
  {
   "cell_type": "code",
   "execution_count": 64,
   "id": "b772cf28",
   "metadata": {},
   "outputs": [
    {
     "name": "stdout",
     "output_type": "stream",
     "text": [
      " Volume in drive C has no label.\n",
      " Volume Serial Number is 7A97-FC3B\n",
      "\n",
      " Directory of C:\\Users\\Shubham\n",
      "\n",
      "15-06-2022  01:56 PM            38,648  class 2 string class.ipynb\n",
      "22-06-2022  11:19 PM    <DIR>          .\n",
      "22-06-2022  11:19 PM    <DIR>          ..\n",
      "15-08-2020  11:51 PM    <DIR>          .AndroidStudio4.0\n",
      "01-06-2022  12:47 PM    <DIR>          .conda\n",
      "01-06-2022  11:55 AM                25 .condarc\n",
      "01-06-2022  11:54 AM    <DIR>          .continuum\n",
      "22-12-2020  02:31 PM    <DIR>          .eclipse\n",
      "30-07-2020  11:07 PM    <DIR>          .idlerc\n",
      "22-06-2022  12:00 AM    <DIR>          .ipynb_checkpoints\n",
      "01-06-2022  12:00 PM    <DIR>          .ipython\n",
      "01-06-2022  12:28 PM    <DIR>          .jupyter\n",
      "13-07-2020  02:50 PM    <DIR>          .openjfx\n",
      "29-04-2022  12:17 AM    <DIR>          .p2\n",
      "05-05-2022  12:01 AM    <DIR>          .pylint.d\n",
      "22-12-2020  02:31 PM    <DIR>          .tooling\n",
      "30-03-2019  07:53 PM    <DIR>          .ueli\n",
      "31-08-2020  12:39 AM    <DIR>          .VirtualBox\n",
      "24-07-2020  12:07 AM    <DIR>          .vscode\n",
      "31-01-2021  10:34 PM    <DIR>          3D Objects\n",
      "01-06-2022  12:39 AM    <DIR>          anaconda3\n",
      "29-10-2020  11:16 PM    <DIR>          ansel\n",
      "14-06-2022  11:47 AM             6,738 asgmt1.ipynb\n",
      "22-06-2022  11:19 PM            47,674 class 10 iterator , generator , map,reduce,filter,basic file operation.ipynb\n",
      "15-06-2022  11:53 PM            56,125 class 3 - list,tuple,dict,set.ipynb\n",
      "16-06-2022  04:02 PM            16,850 class 4 if else.ipynb\n",
      "19-06-2022  05:28 PM            22,467 class 5 loop.ipynb\n",
      "20-06-2022  12:48 AM            22,298 class 6 while loop and functions basic.ipynb\n",
      "13-06-2022  11:08 PM            19,192 class 8 functions.ipynb\n",
      "20-06-2022  11:53 PM            22,395 class 9 - exception handling.ipynb\n",
      "15-06-2022  12:57 PM            12,038 class1 python basics.ipynb\n",
      "31-01-2021  10:34 PM    <DIR>          Contacts\n",
      "30-04-2019  12:43 PM    <DIR>          DeskDock\n",
      "22-06-2022  06:19 PM    <DIR>          Desktop\n",
      "01-06-2022  12:38 AM    <DIR>          Documents\n",
      "22-06-2022  06:23 PM    <DIR>          Downloads\n",
      "22-12-2020  01:47 PM    <DIR>          eclipse\n",
      "22-12-2020  02:31 PM    <DIR>          eclipse-workspace\n",
      "31-01-2021  10:34 PM    <DIR>          Favorites\n",
      "29-04-2022  12:14 AM    <DIR>          IdeaProjects\n",
      "31-01-2021  10:34 PM    <DIR>          Links\n",
      "31-01-2021  10:34 PM    <DIR>          Music\n",
      "18-08-2020  11:37 PM    <DIR>          OneDrive\n",
      "31-01-2021  10:34 PM    <DIR>          Pictures\n",
      "20-06-2022  11:53 PM           102,067 practice book.ipynb\n",
      "19-06-2022  01:25 PM            46,057 Prg_Asmt_03.ipynb\n",
      "21-06-2022  02:24 PM             3,828 prg_asmt_4.ipynb\n",
      "22-05-2020  07:45 PM    <DIR>          PycharmProjects\n",
      "02-01-2020  02:33 PM    <DIR>          Roaming\n",
      "31-01-2021  10:34 PM    <DIR>          Saved Games\n",
      "31-01-2021  10:34 PM    <DIR>          Searches\n",
      "22-06-2022  11:20 PM                36 sudh1.txt\n",
      "11-06-2022  01:17 PM            20,771 task (for loop).ipynb\n",
      "22-06-2022  11:58 AM               300 test5.txt\n",
      "22-06-2022  11:49 AM                12 text.sudh\n",
      "22-06-2022  11:20 PM                53 text1.txt\n",
      "22-06-2022  11:20 PM                28 text2.txt\n",
      "31-01-2021  10:34 PM    <DIR>          Videos\n",
      "29-07-2020  11:07 PM    <DIR>          VirtualBox VMs\n",
      "13-07-2020  02:53 PM    <DIR>          XiaomiADBFastbootTools\n",
      "              20 File(s)        437,602 bytes\n",
      "              40 Dir(s)  75,154,915,328 bytes free\n"
     ]
    }
   ],
   "source": [
    "ls"
   ]
  },
  {
   "cell_type": "code",
   "execution_count": 65,
   "id": "bea15988",
   "metadata": {},
   "outputs": [],
   "source": [
    "f3 = open(\"text.sudh\",'w')\n",
    "f3.write(\"jrfjjnjjyjrf\")\n",
    "f3.close()"
   ]
  },
  {
   "cell_type": "code",
   "execution_count": 66,
   "id": "557a2609",
   "metadata": {},
   "outputs": [
    {
     "name": "stdout",
     "output_type": "stream",
     "text": [
      "Overwriting test5.txt\n"
     ]
    }
   ],
   "source": [
    "%%writefile test5.txt\n",
    "this is my python programme to write file in different way\n",
    "this is my python programme to write file in different way\n",
    "this is my python programme to write file in different way\n",
    "this is my python programme to write file in different way\n",
    "this is my python programme to write file in different way"
   ]
  },
  {
   "cell_type": "code",
   "execution_count": 67,
   "id": "6b7d279d",
   "metadata": {},
   "outputs": [],
   "source": [
    "f = open(\"test5.txt\")"
   ]
  },
  {
   "cell_type": "code",
   "execution_count": 68,
   "id": "440cabf1",
   "metadata": {},
   "outputs": [
    {
     "data": {
      "text/plain": [
       "'this is my python programme to write file in different way\\nthis is my python programme to write file in different way\\nthis is my python programme to write file in different way\\nthis is my python programme to write file in different way\\nthis is my python programme to write file in different way\\n'"
      ]
     },
     "execution_count": 68,
     "metadata": {},
     "output_type": "execute_result"
    }
   ],
   "source": [
    "f.read()"
   ]
  },
  {
   "cell_type": "code",
   "execution_count": 69,
   "id": "5d013eba",
   "metadata": {},
   "outputs": [
    {
     "data": {
      "text/plain": [
       "''"
      ]
     },
     "execution_count": 69,
     "metadata": {},
     "output_type": "execute_result"
    }
   ],
   "source": [
    "f.read() #pointer is at last place"
   ]
  },
  {
   "cell_type": "code",
   "execution_count": 70,
   "id": "43b4a93c",
   "metadata": {},
   "outputs": [
    {
     "data": {
      "text/plain": [
       "0"
      ]
     },
     "execution_count": 70,
     "metadata": {},
     "output_type": "execute_result"
    }
   ],
   "source": [
    "f.seek(0) #set pointer at zeroth index"
   ]
  },
  {
   "cell_type": "code",
   "execution_count": 71,
   "id": "dad6161b",
   "metadata": {},
   "outputs": [
    {
     "data": {
      "text/plain": [
       "'this is my python programme to write file in different way\\nthis is my python programme to write file in different way\\nthis is my python programme to write file in different way\\nthis is my python programme to write file in different way\\nthis is my python programme to write file in different way\\n'"
      ]
     },
     "execution_count": 71,
     "metadata": {},
     "output_type": "execute_result"
    }
   ],
   "source": [
    "f.read()"
   ]
  },
  {
   "cell_type": "code",
   "execution_count": 72,
   "id": "3c7538ad",
   "metadata": {},
   "outputs": [
    {
     "data": {
      "text/plain": [
       "4"
      ]
     },
     "execution_count": 72,
     "metadata": {},
     "output_type": "execute_result"
    }
   ],
   "source": [
    "f.seek(4)"
   ]
  },
  {
   "cell_type": "code",
   "execution_count": 73,
   "id": "0f9814d6",
   "metadata": {},
   "outputs": [
    {
     "data": {
      "text/plain": [
       "' is my python programme to write file in different way\\nthis is my python programme to write file in different way\\nthis is my python programme to write file in different way\\nthis is my python programme to write file in different way\\nthis is my python programme to write file in different way\\n'"
      ]
     },
     "execution_count": 73,
     "metadata": {},
     "output_type": "execute_result"
    }
   ],
   "source": [
    "f.read()"
   ]
  },
  {
   "cell_type": "code",
   "execution_count": 74,
   "id": "ca394e09",
   "metadata": {},
   "outputs": [
    {
     "data": {
      "text/plain": [
       "50"
      ]
     },
     "execution_count": 74,
     "metadata": {},
     "output_type": "execute_result"
    }
   ],
   "source": [
    "f.seek(50)"
   ]
  },
  {
   "cell_type": "code",
   "execution_count": 75,
   "id": "2322ffcb",
   "metadata": {},
   "outputs": [
    {
     "data": {
      "text/plain": [
       "'rent way\\nthis is my python programme to write file in different way\\nthis is my python programme to write file in different way\\nthis is my python programme to write file in different way\\nthis is my python programme to write file in different way\\n'"
      ]
     },
     "execution_count": 75,
     "metadata": {},
     "output_type": "execute_result"
    }
   ],
   "source": [
    "f.read()"
   ]
  },
  {
   "cell_type": "code",
   "execution_count": 76,
   "id": "fd5e026d",
   "metadata": {},
   "outputs": [],
   "source": [
    "f1= open(\"test5.txt\")"
   ]
  },
  {
   "cell_type": "code",
   "execution_count": 77,
   "id": "211b899b",
   "metadata": {},
   "outputs": [
    {
     "data": {
      "text/plain": [
       "0"
      ]
     },
     "execution_count": 77,
     "metadata": {},
     "output_type": "execute_result"
    }
   ],
   "source": [
    "f1.tell() #tell me about the pointer position"
   ]
  },
  {
   "cell_type": "code",
   "execution_count": 78,
   "id": "1e3886ed",
   "metadata": {},
   "outputs": [
    {
     "data": {
      "text/plain": [
       "'this is my python programme to write file in different way\\nthis is my python programme to write file in different way\\nthis is my python programme to write file in different way\\nthis is my python programme to write file in different way\\nthis is my python programme to write file in different way\\n'"
      ]
     },
     "execution_count": 78,
     "metadata": {},
     "output_type": "execute_result"
    }
   ],
   "source": [
    "f1.read()"
   ]
  },
  {
   "cell_type": "code",
   "execution_count": 79,
   "id": "7d51eae8",
   "metadata": {},
   "outputs": [
    {
     "data": {
      "text/plain": [
       "300"
      ]
     },
     "execution_count": 79,
     "metadata": {},
     "output_type": "execute_result"
    }
   ],
   "source": [
    "f1.tell()"
   ]
  },
  {
   "cell_type": "code",
   "execution_count": 80,
   "id": "ffe703f9",
   "metadata": {},
   "outputs": [
    {
     "data": {
      "text/plain": [
       "''"
      ]
     },
     "execution_count": 80,
     "metadata": {},
     "output_type": "execute_result"
    }
   ],
   "source": [
    "f1.read()"
   ]
  },
  {
   "cell_type": "code",
   "execution_count": 81,
   "id": "f1d591ec",
   "metadata": {},
   "outputs": [
    {
     "data": {
      "text/plain": [
       "0"
      ]
     },
     "execution_count": 81,
     "metadata": {},
     "output_type": "execute_result"
    }
   ],
   "source": [
    "f1.seek(0)"
   ]
  },
  {
   "cell_type": "code",
   "execution_count": 82,
   "id": "3c613e69",
   "metadata": {},
   "outputs": [
    {
     "data": {
      "text/plain": [
       "'this is my pyth'"
      ]
     },
     "execution_count": 82,
     "metadata": {},
     "output_type": "execute_result"
    }
   ],
   "source": [
    "f1.read(15)"
   ]
  },
  {
   "cell_type": "code",
   "execution_count": 83,
   "id": "6de5b835",
   "metadata": {},
   "outputs": [
    {
     "data": {
      "text/plain": [
       "5"
      ]
     },
     "execution_count": 83,
     "metadata": {},
     "output_type": "execute_result"
    }
   ],
   "source": [
    "f1.seek(5)"
   ]
  },
  {
   "cell_type": "code",
   "execution_count": 84,
   "id": "68705631",
   "metadata": {},
   "outputs": [
    {
     "data": {
      "text/plain": [
       "'is my python pr'"
      ]
     },
     "execution_count": 84,
     "metadata": {},
     "output_type": "execute_result"
    }
   ],
   "source": [
    "f1.read(15)"
   ]
  },
  {
   "cell_type": "code",
   "execution_count": 85,
   "id": "77fe0b73",
   "metadata": {},
   "outputs": [],
   "source": [
    "f2 = open(\"test5.txt\")"
   ]
  },
  {
   "cell_type": "code",
   "execution_count": 86,
   "id": "1b21c594",
   "metadata": {},
   "outputs": [
    {
     "data": {
      "text/plain": [
       "'this is my python programme to write file in different way\\nthis is my python programme to write file in different way\\nthis is my python programme to write file in different way\\nthis is my python programme to write file in different way\\nthis is my python programme to write file in different way\\n'"
      ]
     },
     "execution_count": 86,
     "metadata": {},
     "output_type": "execute_result"
    }
   ],
   "source": [
    "f2.read()"
   ]
  },
  {
   "cell_type": "code",
   "execution_count": 87,
   "id": "c8887366",
   "metadata": {},
   "outputs": [
    {
     "data": {
      "text/plain": [
       "0"
      ]
     },
     "execution_count": 87,
     "metadata": {},
     "output_type": "execute_result"
    }
   ],
   "source": [
    "f2.seek(0)"
   ]
  },
  {
   "cell_type": "code",
   "execution_count": 88,
   "id": "950041a6",
   "metadata": {},
   "outputs": [
    {
     "data": {
      "text/plain": [
       "20"
      ]
     },
     "execution_count": 88,
     "metadata": {},
     "output_type": "execute_result"
    }
   ],
   "source": [
    "f1.tell()"
   ]
  },
  {
   "cell_type": "code",
   "execution_count": 89,
   "id": "9c491ea6",
   "metadata": {},
   "outputs": [
    {
     "data": {
      "text/plain": [
       "5"
      ]
     },
     "execution_count": 89,
     "metadata": {},
     "output_type": "execute_result"
    }
   ],
   "source": [
    "f1.seek(5)"
   ]
  },
  {
   "cell_type": "code",
   "execution_count": 91,
   "id": "5b4f5481",
   "metadata": {},
   "outputs": [
    {
     "data": {
      "text/plain": [
       "'is my python programme to write file in different way\\nthis is my python programme to write file in different way\\nthis is my python programme to write file in different way\\nthis is my python programme to write file in different way\\nthis is my python programme to write file in different way\\n'"
      ]
     },
     "execution_count": 91,
     "metadata": {},
     "output_type": "execute_result"
    }
   ],
   "source": [
    "f1.read()"
   ]
  },
  {
   "cell_type": "code",
   "execution_count": 92,
   "id": "25f26dd1",
   "metadata": {},
   "outputs": [
    {
     "data": {
      "text/plain": [
       "300"
      ]
     },
     "execution_count": 92,
     "metadata": {},
     "output_type": "execute_result"
    }
   ],
   "source": [
    "f1.tell()"
   ]
  },
  {
   "cell_type": "code",
   "execution_count": 95,
   "id": "3feb0ae1",
   "metadata": {},
   "outputs": [
    {
     "data": {
      "text/plain": [
       "0"
      ]
     },
     "execution_count": 95,
     "metadata": {},
     "output_type": "execute_result"
    }
   ],
   "source": [
    "f1.seek(0)"
   ]
  },
  {
   "cell_type": "code",
   "execution_count": 96,
   "id": "e8ca6fb2",
   "metadata": {},
   "outputs": [
    {
     "data": {
      "text/plain": [
       "0"
      ]
     },
     "execution_count": 96,
     "metadata": {},
     "output_type": "execute_result"
    }
   ],
   "source": [
    "f1.tell()"
   ]
  },
  {
   "cell_type": "code",
   "execution_count": 97,
   "id": "00e091eb",
   "metadata": {},
   "outputs": [
    {
     "data": {
      "text/plain": [
       "0"
      ]
     },
     "execution_count": 97,
     "metadata": {},
     "output_type": "execute_result"
    }
   ],
   "source": [
    "f1.tell()"
   ]
  },
  {
   "cell_type": "code",
   "execution_count": 102,
   "id": "67d629e0",
   "metadata": {},
   "outputs": [
    {
     "data": {
      "text/plain": [
       "'on programme to'"
      ]
     },
     "execution_count": 102,
     "metadata": {},
     "output_type": "execute_result"
    }
   ],
   "source": [
    "f1.read(15)"
   ]
  },
  {
   "cell_type": "code",
   "execution_count": 106,
   "id": "73d7ca32",
   "metadata": {},
   "outputs": [],
   "source": [
    "f2=open(\"test5.txt\")"
   ]
  },
  {
   "cell_type": "code",
   "execution_count": 107,
   "id": "7cb3f12a",
   "metadata": {},
   "outputs": [
    {
     "data": {
      "text/plain": [
       "'this is my python programme to write file in different way\\nthis is my python programme to write file in different way\\nthis is my python programme to write file in different way\\nthis is my python programme to write file in different way\\nthis is my python programme to write file in different way\\n'"
      ]
     },
     "execution_count": 107,
     "metadata": {},
     "output_type": "execute_result"
    }
   ],
   "source": [
    "f2.read()"
   ]
  },
  {
   "cell_type": "code",
   "execution_count": 109,
   "id": "63cf4348",
   "metadata": {},
   "outputs": [
    {
     "data": {
      "text/plain": [
       "0"
      ]
     },
     "execution_count": 109,
     "metadata": {},
     "output_type": "execute_result"
    }
   ],
   "source": [
    "f2.seek(0)"
   ]
  },
  {
   "cell_type": "code",
   "execution_count": 110,
   "id": "fb30be54",
   "metadata": {},
   "outputs": [
    {
     "data": {
      "text/plain": [
       "'this is my python programme to write file in different way\\n'"
      ]
     },
     "execution_count": 110,
     "metadata": {},
     "output_type": "execute_result"
    }
   ],
   "source": [
    "f2.readline()"
   ]
  },
  {
   "cell_type": "code",
   "execution_count": 111,
   "id": "6073756b",
   "metadata": {},
   "outputs": [
    {
     "data": {
      "text/plain": [
       "['this is my python programme to write file in different way\\n',\n",
       " 'this is my python programme to write file in different way\\n',\n",
       " 'this is my python programme to write file in different way\\n',\n",
       " 'this is my python programme to write file in different way\\n']"
      ]
     },
     "execution_count": 111,
     "metadata": {},
     "output_type": "execute_result"
    }
   ],
   "source": [
    "f2.readlines()"
   ]
  },
  {
   "cell_type": "code",
   "execution_count": 112,
   "id": "a371fa98",
   "metadata": {},
   "outputs": [
    {
     "data": {
      "text/plain": [
       "<_io.TextIOWrapper name='test5.txt' mode='r' encoding='cp1252'>"
      ]
     },
     "execution_count": 112,
     "metadata": {},
     "output_type": "execute_result"
    }
   ],
   "source": [
    "f2"
   ]
  },
  {
   "cell_type": "code",
   "execution_count": 114,
   "id": "85185b43",
   "metadata": {},
   "outputs": [
    {
     "data": {
      "text/plain": [
       "7"
      ]
     },
     "execution_count": 114,
     "metadata": {},
     "output_type": "execute_result"
    }
   ],
   "source": [
    "f2.fileno()"
   ]
  },
  {
   "cell_type": "code",
   "execution_count": 115,
   "id": "a67901a1",
   "metadata": {},
   "outputs": [],
   "source": [
    "f = open(\"test.txt\" , \"w\")"
   ]
  },
  {
   "cell_type": "code",
   "execution_count": 116,
   "id": "91842c1d",
   "metadata": {},
   "outputs": [
    {
     "data": {
      "text/plain": [
       "61"
      ]
     },
     "execution_count": 116,
     "metadata": {},
     "output_type": "execute_result"
    }
   ],
   "source": [
    "f.write(\"\"\"this is my python programme to write file in different way\\n',\"\"\")"
   ]
  },
  {
   "cell_type": "code",
   "execution_count": 117,
   "id": "df6c4dde",
   "metadata": {},
   "outputs": [],
   "source": [
    "f.close()"
   ]
  },
  {
   "cell_type": "code",
   "execution_count": 121,
   "id": "d0e73248",
   "metadata": {},
   "outputs": [],
   "source": [
    "f = open(\"test.txt\",'a')"
   ]
  },
  {
   "cell_type": "code",
   "execution_count": 122,
   "id": "3027b939",
   "metadata": {},
   "outputs": [
    {
     "data": {
      "text/plain": [
       "24"
      ]
     },
     "execution_count": 122,
     "metadata": {},
     "output_type": "execute_result"
    }
   ],
   "source": [
    "f.write(\"hgdguhvfjbhgfisgbhjxbvui\")"
   ]
  },
  {
   "cell_type": "code",
   "execution_count": 123,
   "id": "b661f504",
   "metadata": {},
   "outputs": [],
   "source": [
    "f.close()"
   ]
  },
  {
   "cell_type": "code",
   "execution_count": 124,
   "id": "ff2d0f17",
   "metadata": {},
   "outputs": [
    {
     "data": {
      "text/plain": [
       "'test.txt'"
      ]
     },
     "execution_count": 124,
     "metadata": {},
     "output_type": "execute_result"
    }
   ],
   "source": [
    "f.name"
   ]
  },
  {
   "cell_type": "code",
   "execution_count": 125,
   "id": "ccbbedf1",
   "metadata": {},
   "outputs": [
    {
     "data": {
      "text/plain": [
       "True"
      ]
     },
     "execution_count": 125,
     "metadata": {},
     "output_type": "execute_result"
    }
   ],
   "source": [
    "f.closed"
   ]
  },
  {
   "cell_type": "code",
   "execution_count": 126,
   "id": "9b366b72",
   "metadata": {},
   "outputs": [
    {
     "data": {
      "text/plain": [
       "'a'"
      ]
     },
     "execution_count": 126,
     "metadata": {},
     "output_type": "execute_result"
    }
   ],
   "source": [
    "f.mode"
   ]
  },
  {
   "cell_type": "code",
   "execution_count": 127,
   "id": "eaa4fe6a",
   "metadata": {},
   "outputs": [],
   "source": [
    "# map , reduce , filter"
   ]
  },
  {
   "cell_type": "code",
   "execution_count": 128,
   "id": "e1f794dc",
   "metadata": {},
   "outputs": [],
   "source": [
    "l =[2,3,4,5,6]"
   ]
  },
  {
   "cell_type": "code",
   "execution_count": 129,
   "id": "77a1f9e3",
   "metadata": {},
   "outputs": [
    {
     "name": "stdout",
     "output_type": "stream",
     "text": [
      "[4, 9, 16, 25, 36]\n"
     ]
    }
   ],
   "source": [
    "l1=[]\n",
    "for i in l:\n",
    "    l1.append(i**2)\n",
    "print(l1)"
   ]
  },
  {
   "cell_type": "code",
   "execution_count": 1,
   "id": "c759abfb",
   "metadata": {},
   "outputs": [],
   "source": [
    "def sq(n):\n",
    "    return n**2"
   ]
  },
  {
   "cell_type": "code",
   "execution_count": null,
   "id": "79c7dc49",
   "metadata": {},
   "outputs": [],
   "source": []
  },
  {
   "cell_type": "code",
   "execution_count": 131,
   "id": "8ce42fb2",
   "metadata": {},
   "outputs": [
    {
     "data": {
      "text/plain": [
       "[4, 9, 16, 25, 36]"
      ]
     },
     "execution_count": 131,
     "metadata": {},
     "output_type": "execute_result"
    }
   ],
   "source": [
    "list(map(sq , l))"
   ]
  },
  {
   "cell_type": "code",
   "execution_count": 134,
   "id": "eea236c7",
   "metadata": {},
   "outputs": [
    {
     "data": {
      "text/plain": [
       "[4, 9, 16, 25, 36]"
      ]
     },
     "execution_count": 134,
     "metadata": {},
     "output_type": "execute_result"
    }
   ],
   "source": [
    "list(map (lambda x : x**2 , l))"
   ]
  },
  {
   "cell_type": "code",
   "execution_count": 135,
   "id": "832ce031",
   "metadata": {},
   "outputs": [
    {
     "data": {
      "text/plain": [
       "[2, 3, 4, 5, 6]"
      ]
     },
     "execution_count": 135,
     "metadata": {},
     "output_type": "execute_result"
    }
   ],
   "source": [
    "l"
   ]
  },
  {
   "cell_type": "code",
   "execution_count": 137,
   "id": "f036f23c",
   "metadata": {},
   "outputs": [
    {
     "data": {
      "text/plain": [
       "['2', '3', '4', '5', '6']"
      ]
     },
     "execution_count": 137,
     "metadata": {},
     "output_type": "execute_result"
    }
   ],
   "source": [
    "list(map(lambda x : str(x) ,l))"
   ]
  },
  {
   "cell_type": "code",
   "execution_count": 140,
   "id": "162d966e",
   "metadata": {},
   "outputs": [],
   "source": [
    "def str_c(n):\n",
    "    return str(n)"
   ]
  },
  {
   "cell_type": "code",
   "execution_count": 141,
   "id": "c77c623e",
   "metadata": {},
   "outputs": [
    {
     "data": {
      "text/plain": [
       "['2', '3', '4', '5', '6']"
      ]
     },
     "execution_count": 141,
     "metadata": {},
     "output_type": "execute_result"
    }
   ],
   "source": [
    "list(map(str_c, l))"
   ]
  },
  {
   "cell_type": "code",
   "execution_count": 143,
   "id": "ada4afa5",
   "metadata": {},
   "outputs": [],
   "source": [
    "from functools import reduce\n"
   ]
  },
  {
   "cell_type": "code",
   "execution_count": 145,
   "id": "80e78437",
   "metadata": {},
   "outputs": [],
   "source": [
    "l = [3,4,5,6,7,8,9]"
   ]
  },
  {
   "cell_type": "code",
   "execution_count": 146,
   "id": "f4b8727f",
   "metadata": {},
   "outputs": [
    {
     "data": {
      "text/plain": [
       "42"
      ]
     },
     "execution_count": 146,
     "metadata": {},
     "output_type": "execute_result"
    }
   ],
   "source": [
    "sum(l)"
   ]
  },
  {
   "cell_type": "code",
   "execution_count": 147,
   "id": "95ba513c",
   "metadata": {},
   "outputs": [
    {
     "data": {
      "text/plain": [
       "42"
      ]
     },
     "execution_count": 147,
     "metadata": {},
     "output_type": "execute_result"
    }
   ],
   "source": [
    "reduce(lambda a,b : a+b , l)"
   ]
  },
  {
   "cell_type": "code",
   "execution_count": 149,
   "id": "7f7b90bb",
   "metadata": {},
   "outputs": [
    {
     "data": {
      "text/plain": [
       "181440"
      ]
     },
     "execution_count": 149,
     "metadata": {},
     "output_type": "execute_result"
    }
   ],
   "source": [
    "reduce(lambda a,b : a*b , l)"
   ]
  },
  {
   "cell_type": "code",
   "execution_count": null,
   "id": "d09d3266",
   "metadata": {},
   "outputs": [],
   "source": [
    "#return fnction works on true and false as a output"
   ]
  },
  {
   "cell_type": "code",
   "execution_count": 150,
   "id": "5485af01",
   "metadata": {},
   "outputs": [],
   "source": [
    "l = [1,2,3,4,45,5]"
   ]
  },
  {
   "cell_type": "code",
   "execution_count": 151,
   "id": "744ccb79",
   "metadata": {},
   "outputs": [
    {
     "name": "stdout",
     "output_type": "stream",
     "text": [
      "2\n",
      "4\n"
     ]
    }
   ],
   "source": [
    "for i in l:\n",
    "    if i%2==0:\n",
    "        print(i)  #even no as outcome"
   ]
  },
  {
   "cell_type": "code",
   "execution_count": 153,
   "id": "0fd60d02",
   "metadata": {},
   "outputs": [
    {
     "data": {
      "text/plain": [
       "[2, 4]"
      ]
     },
     "execution_count": 153,
     "metadata": {},
     "output_type": "execute_result"
    }
   ],
   "source": [
    "list(filter(lambda x: x%2==0 , l))"
   ]
  },
  {
   "cell_type": "code",
   "execution_count": 1,
   "id": "fe2d7d35",
   "metadata": {},
   "outputs": [],
   "source": [
    "def check_even(n):\n",
    "    if n%2==0:\n",
    "        return True"
   ]
  },
  {
   "cell_type": "code",
   "execution_count": 155,
   "id": "d24fcaed",
   "metadata": {},
   "outputs": [
    {
     "data": {
      "text/plain": [
       "[2, 4]"
      ]
     },
     "execution_count": 155,
     "metadata": {},
     "output_type": "execute_result"
    }
   ],
   "source": [
    "list(filter(check_even , l))"
   ]
  },
  {
   "cell_type": "code",
   "execution_count": 2,
   "id": "821d6bec",
   "metadata": {},
   "outputs": [
    {
     "ename": "NameError",
     "evalue": "name 'f1' is not defined",
     "output_type": "error",
     "traceback": [
      "\u001b[1;31m---------------------------------------------------------------------------\u001b[0m",
      "\u001b[1;31mNameError\u001b[0m                                 Traceback (most recent call last)",
      "Input \u001b[1;32mIn [2]\u001b[0m, in \u001b[0;36m<cell line: 1>\u001b[1;34m()\u001b[0m\n\u001b[1;32m----> 1\u001b[0m f9 \u001b[38;5;241m=\u001b[39m \u001b[43mf1\u001b[49m\u001b[38;5;241m.\u001b[39mopen()\n",
      "\u001b[1;31mNameError\u001b[0m: name 'f1' is not defined"
     ]
    }
   ],
   "source": [
    "f9 = f1.open()"
   ]
  },
  {
   "cell_type": "code",
   "execution_count": null,
   "id": "00cf71ba",
   "metadata": {},
   "outputs": [],
   "source": []
  },
  {
   "cell_type": "code",
   "execution_count": null,
   "id": "6856aa56",
   "metadata": {},
   "outputs": [],
   "source": []
  }
 ],
 "metadata": {
  "kernelspec": {
   "display_name": "Python 3 (ipykernel)",
   "language": "python",
   "name": "python3"
  },
  "language_info": {
   "codemirror_mode": {
    "name": "ipython",
    "version": 3
   },
   "file_extension": ".py",
   "mimetype": "text/x-python",
   "name": "python",
   "nbconvert_exporter": "python",
   "pygments_lexer": "ipython3",
   "version": "3.9.12"
  }
 },
 "nbformat": 4,
 "nbformat_minor": 5
}
