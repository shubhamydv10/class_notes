{
 "cells": [
  {
   "cell_type": "code",
   "execution_count": 1,
   "id": "bed6901e",
   "metadata": {},
   "outputs": [],
   "source": [
    "s = \"ineuron\""
   ]
  },
  {
   "cell_type": "code",
   "execution_count": 2,
   "id": "8d1918cf",
   "metadata": {},
   "outputs": [
    {
     "data": {
      "text/plain": [
       "str"
      ]
     },
     "execution_count": 2,
     "metadata": {},
     "output_type": "execute_result"
    }
   ],
   "source": [
    "type(s)"
   ]
  },
  {
   "cell_type": "code",
   "execution_count": 3,
   "id": "d8c8c718",
   "metadata": {},
   "outputs": [
    {
     "data": {
      "text/plain": [
       "'i'"
      ]
     },
     "execution_count": 3,
     "metadata": {},
     "output_type": "execute_result"
    }
   ],
   "source": [
    "s[0]"
   ]
  },
  {
   "cell_type": "code",
   "execution_count": 4,
   "id": "20d2190b",
   "metadata": {},
   "outputs": [
    {
     "data": {
      "text/plain": [
       "'in'"
      ]
     },
     "execution_count": 4,
     "metadata": {},
     "output_type": "execute_result"
    }
   ],
   "source": [
    "s[0:2]"
   ]
  },
  {
   "cell_type": "code",
   "execution_count": 5,
   "id": "91f95c5e",
   "metadata": {},
   "outputs": [
    {
     "data": {
      "text/plain": [
       "'n'"
      ]
     },
     "execution_count": 5,
     "metadata": {},
     "output_type": "execute_result"
    }
   ],
   "source": [
    "s[-1]"
   ]
  },
  {
   "cell_type": "code",
   "execution_count": 6,
   "id": "5ba9b19a",
   "metadata": {},
   "outputs": [
    {
     "data": {
      "text/plain": [
       "'e'"
      ]
     },
     "execution_count": 6,
     "metadata": {},
     "output_type": "execute_result"
    }
   ],
   "source": [
    "s[-5]"
   ]
  },
  {
   "cell_type": "code",
   "execution_count": 7,
   "id": "f3ca14d4",
   "metadata": {},
   "outputs": [],
   "source": [
    "s2 = \"this is my very first programming class's\""
   ]
  },
  {
   "cell_type": "code",
   "execution_count": 8,
   "id": "2e97ff5f",
   "metadata": {},
   "outputs": [
    {
     "data": {
      "text/plain": [
       "'m'"
      ]
     },
     "execution_count": 8,
     "metadata": {},
     "output_type": "execute_result"
    }
   ],
   "source": [
    "s2[8]"
   ]
  },
  {
   "cell_type": "code",
   "execution_count": 9,
   "id": "3ba4d64b",
   "metadata": {},
   "outputs": [
    {
     "data": {
      "text/plain": [
       "'his is '"
      ]
     },
     "execution_count": 9,
     "metadata": {},
     "output_type": "execute_result"
    }
   ],
   "source": [
    "s2[1:8]"
   ]
  },
  {
   "cell_type": "code",
   "execution_count": 10,
   "id": "4a263d4b",
   "metadata": {},
   "outputs": [
    {
     "data": {
      "text/plain": [
       "'is my very first programm'"
      ]
     },
     "execution_count": 10,
     "metadata": {},
     "output_type": "execute_result"
    }
   ],
   "source": [
    "s2[5:30]"
   ]
  },
  {
   "cell_type": "code",
   "execution_count": 11,
   "id": "1389cb92",
   "metadata": {},
   "outputs": [
    {
     "data": {
      "text/plain": [
       "'sm eyfrtporm'"
      ]
     },
     "execution_count": 11,
     "metadata": {},
     "output_type": "execute_result"
    }
   ],
   "source": [
    "s2[6:30:2]"
   ]
  },
  {
   "cell_type": "code",
   "execution_count": 12,
   "id": "69ddecb1",
   "metadata": {},
   "outputs": [],
   "source": [
    "s=\"sudhanshu\""
   ]
  },
  {
   "cell_type": "code",
   "execution_count": 13,
   "id": "afa51b6a",
   "metadata": {},
   "outputs": [
    {
     "data": {
      "text/plain": [
       "'sdasu'"
      ]
     },
     "execution_count": 13,
     "metadata": {},
     "output_type": "execute_result"
    }
   ],
   "source": [
    "s[0:9:2]"
   ]
  },
  {
   "cell_type": "code",
   "execution_count": 14,
   "id": "7b68a5f2",
   "metadata": {},
   "outputs": [
    {
     "data": {
      "text/plain": [
       "''"
      ]
     },
     "execution_count": 14,
     "metadata": {},
     "output_type": "execute_result"
    }
   ],
   "source": [
    "s[0:8:-1]"
   ]
  },
  {
   "cell_type": "code",
   "execution_count": 15,
   "id": "c0d0384c",
   "metadata": {},
   "outputs": [
    {
     "data": {
      "text/plain": [
       "'uhsnahdu'"
      ]
     },
     "execution_count": 15,
     "metadata": {},
     "output_type": "execute_result"
    }
   ],
   "source": [
    "s[8:0:-1]"
   ]
  },
  {
   "cell_type": "code",
   "execution_count": 16,
   "id": "d3063537",
   "metadata": {},
   "outputs": [
    {
     "data": {
      "text/plain": [
       "'sudhan'"
      ]
     },
     "execution_count": 16,
     "metadata": {},
     "output_type": "execute_result"
    }
   ],
   "source": [
    "s[:-3]"
   ]
  },
  {
   "cell_type": "code",
   "execution_count": 17,
   "id": "bc850430",
   "metadata": {},
   "outputs": [
    {
     "data": {
      "text/plain": [
       "'shu'"
      ]
     },
     "execution_count": 17,
     "metadata": {},
     "output_type": "execute_result"
    }
   ],
   "source": [
    "s[-3:]"
   ]
  },
  {
   "cell_type": "code",
   "execution_count": 18,
   "id": "ec267e98",
   "metadata": {},
   "outputs": [
    {
     "data": {
      "text/plain": [
       "'sudhanshu'"
      ]
     },
     "execution_count": 18,
     "metadata": {},
     "output_type": "execute_result"
    }
   ],
   "source": [
    "s[::1]"
   ]
  },
  {
   "cell_type": "code",
   "execution_count": 19,
   "id": "1d6b89ba",
   "metadata": {},
   "outputs": [
    {
     "data": {
      "text/plain": [
       "'sdasu'"
      ]
     },
     "execution_count": 19,
     "metadata": {},
     "output_type": "execute_result"
    }
   ],
   "source": [
    "s[::2]"
   ]
  },
  {
   "cell_type": "code",
   "execution_count": 20,
   "id": "ce1e9a64",
   "metadata": {},
   "outputs": [
    {
     "data": {
      "text/plain": [
       "'uhsnahdus'"
      ]
     },
     "execution_count": 20,
     "metadata": {},
     "output_type": "execute_result"
    }
   ],
   "source": [
    "s[::-1]"
   ]
  },
  {
   "cell_type": "code",
   "execution_count": 21,
   "id": "70e9b3c2",
   "metadata": {},
   "outputs": [
    {
     "data": {
      "text/plain": [
       "\"this is my very first programming class's\""
      ]
     },
     "execution_count": 21,
     "metadata": {},
     "output_type": "execute_result"
    }
   ],
   "source": [
    "s2"
   ]
  },
  {
   "cell_type": "code",
   "execution_count": 22,
   "id": "33262485",
   "metadata": {},
   "outputs": [
    {
     "data": {
      "text/plain": [
       "\"s'ssalc gnimmargorp tsrif yrev ym si siht\""
      ]
     },
     "execution_count": 22,
     "metadata": {},
     "output_type": "execute_result"
    }
   ],
   "source": [
    "s2[::-1] #the way to reverse a string"
   ]
  },
  {
   "cell_type": "code",
   "execution_count": 23,
   "id": "cc763358",
   "metadata": {},
   "outputs": [
    {
     "data": {
      "text/plain": [
       "'sudhanshu1'"
      ]
     },
     "execution_count": 23,
     "metadata": {},
     "output_type": "execute_result"
    }
   ],
   "source": [
    "s + str(1)"
   ]
  },
  {
   "cell_type": "code",
   "execution_count": 24,
   "id": "083eb3eb",
   "metadata": {},
   "outputs": [
    {
     "data": {
      "text/plain": [
       "'sudhanshu1'"
      ]
     },
     "execution_count": 24,
     "metadata": {},
     "output_type": "execute_result"
    }
   ],
   "source": [
    "s +\"1\""
   ]
  },
  {
   "cell_type": "code",
   "execution_count": 25,
   "id": "759e22fd",
   "metadata": {},
   "outputs": [
    {
     "data": {
      "text/plain": [
       "'sudhanshu'"
      ]
     },
     "execution_count": 25,
     "metadata": {},
     "output_type": "execute_result"
    }
   ],
   "source": [
    "s"
   ]
  },
  {
   "cell_type": "code",
   "execution_count": 26,
   "id": "c691aabf",
   "metadata": {},
   "outputs": [
    {
     "data": {
      "text/plain": [
       "9"
      ]
     },
     "execution_count": 26,
     "metadata": {},
     "output_type": "execute_result"
    }
   ],
   "source": [
    "len(s)"
   ]
  },
  {
   "cell_type": "code",
   "execution_count": 27,
   "id": "bacf81fb",
   "metadata": {},
   "outputs": [
    {
     "data": {
      "text/plain": [
       "'sudhanshusudhanshusudhanshusudhanshusudhanshu'"
      ]
     },
     "execution_count": 27,
     "metadata": {},
     "output_type": "execute_result"
    }
   ],
   "source": [
    "s*5"
   ]
  },
  {
   "cell_type": "code",
   "execution_count": 28,
   "id": "274bed24",
   "metadata": {},
   "outputs": [
    {
     "data": {
      "text/plain": [
       "2"
      ]
     },
     "execution_count": 28,
     "metadata": {},
     "output_type": "execute_result"
    }
   ],
   "source": [
    "s.count('s')"
   ]
  },
  {
   "cell_type": "code",
   "execution_count": 29,
   "id": "cffaaa2a",
   "metadata": {},
   "outputs": [
    {
     "data": {
      "text/plain": [
       "['s', 'dhansh', '']"
      ]
     },
     "execution_count": 29,
     "metadata": {},
     "output_type": "execute_result"
    }
   ],
   "source": [
    "s.split('u')"
   ]
  },
  {
   "cell_type": "code",
   "execution_count": 30,
   "id": "2b9a28dc",
   "metadata": {},
   "outputs": [],
   "source": [
    "sw =\"\"\"The Samsung Group[3] (or simply Samsung, stylized as SΛMSUNG) (Korean: 삼성 [samsʌŋ]) is a South Korean multinational manufacturing conglomerate headquartered in Samsung Town, Seoul, South Korea.[1] It comprises numerous affiliated businesses,[1] most of them united under the Samsung brand, and is the largest South Korean chaebol (business conglomerate). As of 2020, Samsung has the 8th highest global brand value.[4]\n",
    "\n",
    "Samsung was founded by Lee Byung-chul in 1938 as a trading company. Over the next three decades, the group diversified into areas including food processing, textiles, insurance, securities, and retail. Samsung entered the electronics industry in the late 1960s and the construction and shipbuilding industries in the mid-1970s; these areas would drive its subsequent growth. Following Lee's death in 1987, Samsung was separated into five business groups – Samsung Group, Shinsegae Group, CJ Group and Hansol Group, and Joongang Group.\n",
    "\n",
    "Notable Samsung industrial affiliates include Samsung Electronics (the world's largest information technology company, consumer electronics maker and chipmaker measured by 2017 revenues),[5][6] Samsung Heavy Industries (the world's 2nd largest shipbuilder measured by 2010 revenues),[7] and Samsung Engineering and Samsung C&T Corporation (respectively the world's 13th and 36th largest construction companies).[8] Other notable subsidiaries include Samsung Life Insurance (the world's 14th largest life insurance company),[9] Samsung Everland (operator of Everland Resort, the oldest theme park in South Korea)[10] and Cheil Worldwide (the world's 15th largest advertising agency, as measured by 2012 revenues).\"\"\""
   ]
  },
  {
   "cell_type": "code",
   "execution_count": 31,
   "id": "afc00040",
   "metadata": {},
   "outputs": [
    {
     "data": {
      "text/plain": [
       "\"The Samsung Group[3] (or simply Samsung, stylized as SΛMSUNG) (Korean: 삼성 [samsʌŋ]) is a South Korean multinational manufacturing conglomerate headquartered in Samsung Town, Seoul, South Korea.[1] It comprises numerous affiliated businesses,[1] most of them united under the Samsung brand, and is the largest South Korean chaebol (business conglomerate). As of 2020, Samsung has the 8th highest global brand value.[4]\\n\\nSamsung was founded by Lee Byung-chul in 1938 as a trading company. Over the next three decades, the group diversified into areas including food processing, textiles, insurance, securities, and retail. Samsung entered the electronics industry in the late 1960s and the construction and shipbuilding industries in the mid-1970s; these areas would drive its subsequent growth. Following Lee's death in 1987, Samsung was separated into five business groups – Samsung Group, Shinsegae Group, CJ Group and Hansol Group, and Joongang Group.\\n\\nNotable Samsung industrial affiliates include Samsung Electronics (the world's largest information technology company, consumer electronics maker and chipmaker measured by 2017 revenues),[5][6] Samsung Heavy Industries (the world's 2nd largest shipbuilder measured by 2010 revenues),[7] and Samsung Engineering and Samsung C&T Corporation (respectively the world's 13th and 36th largest construction companies).[8] Other notable subsidiaries include Samsung Life Insurance (the world's 14th largest life insurance company),[9] Samsung Everland (operator of Everland Resort, the oldest theme park in South Korea)[10] and Cheil Worldwide (the world's 15th largest advertising agency, as measured by 2012 revenues).\""
      ]
     },
     "execution_count": 31,
     "metadata": {},
     "output_type": "execute_result"
    }
   ],
   "source": [
    "sw"
   ]
  },
  {
   "cell_type": "code",
   "execution_count": 32,
   "id": "dd3d3b6c",
   "metadata": {},
   "outputs": [
    {
     "data": {
      "text/plain": [
       "['The',\n",
       " 'Samsung',\n",
       " 'Group[3]',\n",
       " '(or',\n",
       " 'simply',\n",
       " 'Samsung,',\n",
       " 'stylized',\n",
       " 'as',\n",
       " 'SΛMSUNG)',\n",
       " '(Korean:',\n",
       " '삼성',\n",
       " '[samsʌŋ])',\n",
       " 'is',\n",
       " 'a',\n",
       " 'South',\n",
       " 'Korean',\n",
       " 'multinational',\n",
       " 'manufacturing',\n",
       " 'conglomerate',\n",
       " 'headquartered',\n",
       " 'in',\n",
       " 'Samsung',\n",
       " 'Town,',\n",
       " 'Seoul,',\n",
       " 'South',\n",
       " 'Korea.[1]',\n",
       " 'It',\n",
       " 'comprises',\n",
       " 'numerous',\n",
       " 'affiliated',\n",
       " 'businesses,[1]',\n",
       " 'most',\n",
       " 'of',\n",
       " 'them',\n",
       " 'united',\n",
       " 'under',\n",
       " 'the',\n",
       " 'Samsung',\n",
       " 'brand,',\n",
       " 'and',\n",
       " 'is',\n",
       " 'the',\n",
       " 'largest',\n",
       " 'South',\n",
       " 'Korean',\n",
       " 'chaebol',\n",
       " '(business',\n",
       " 'conglomerate).',\n",
       " 'As',\n",
       " 'of',\n",
       " '2020,',\n",
       " 'Samsung',\n",
       " 'has',\n",
       " 'the',\n",
       " '8th',\n",
       " 'highest',\n",
       " 'global',\n",
       " 'brand',\n",
       " 'value.[4]\\n\\nSamsung',\n",
       " 'was',\n",
       " 'founded',\n",
       " 'by',\n",
       " 'Lee',\n",
       " 'Byung-chul',\n",
       " 'in',\n",
       " '1938',\n",
       " 'as',\n",
       " 'a',\n",
       " 'trading',\n",
       " 'company.',\n",
       " 'Over',\n",
       " 'the',\n",
       " 'next',\n",
       " 'three',\n",
       " 'decades,',\n",
       " 'the',\n",
       " 'group',\n",
       " 'diversified',\n",
       " 'into',\n",
       " 'areas',\n",
       " 'including',\n",
       " 'food',\n",
       " 'processing,',\n",
       " 'textiles,',\n",
       " 'insurance,',\n",
       " 'securities,',\n",
       " 'and',\n",
       " 'retail.',\n",
       " 'Samsung',\n",
       " 'entered',\n",
       " 'the',\n",
       " 'electronics',\n",
       " 'industry',\n",
       " 'in',\n",
       " 'the',\n",
       " 'late',\n",
       " '1960s',\n",
       " 'and',\n",
       " 'the',\n",
       " 'construction',\n",
       " 'and',\n",
       " 'shipbuilding',\n",
       " 'industries',\n",
       " 'in',\n",
       " 'the',\n",
       " 'mid-1970s;',\n",
       " 'these',\n",
       " 'areas',\n",
       " 'would',\n",
       " 'drive',\n",
       " 'its',\n",
       " 'subsequent',\n",
       " 'growth.',\n",
       " 'Following',\n",
       " \"Lee's\",\n",
       " 'death',\n",
       " 'in',\n",
       " '1987,',\n",
       " 'Samsung',\n",
       " 'was',\n",
       " 'separated',\n",
       " 'into',\n",
       " 'five',\n",
       " 'business',\n",
       " 'groups',\n",
       " '–',\n",
       " 'Samsung',\n",
       " 'Group,',\n",
       " 'Shinsegae',\n",
       " 'Group,',\n",
       " 'CJ',\n",
       " 'Group',\n",
       " 'and',\n",
       " 'Hansol',\n",
       " 'Group,',\n",
       " 'and',\n",
       " 'Joongang',\n",
       " 'Group.\\n\\nNotable',\n",
       " 'Samsung',\n",
       " 'industrial',\n",
       " 'affiliates',\n",
       " 'include',\n",
       " 'Samsung',\n",
       " 'Electronics',\n",
       " '(the',\n",
       " \"world's\",\n",
       " 'largest',\n",
       " 'information',\n",
       " 'technology',\n",
       " 'company,',\n",
       " 'consumer',\n",
       " 'electronics',\n",
       " 'maker',\n",
       " 'and',\n",
       " 'chipmaker',\n",
       " 'measured',\n",
       " 'by',\n",
       " '2017',\n",
       " 'revenues),[5][6]',\n",
       " 'Samsung',\n",
       " 'Heavy',\n",
       " 'Industries',\n",
       " '(the',\n",
       " \"world's\",\n",
       " '2nd',\n",
       " 'largest',\n",
       " 'shipbuilder',\n",
       " 'measured',\n",
       " 'by',\n",
       " '2010',\n",
       " 'revenues),[7]',\n",
       " 'and',\n",
       " 'Samsung',\n",
       " 'Engineering',\n",
       " 'and',\n",
       " 'Samsung',\n",
       " 'C&T',\n",
       " 'Corporation',\n",
       " '(respectively',\n",
       " 'the',\n",
       " \"world's\",\n",
       " '13th',\n",
       " 'and',\n",
       " '36th',\n",
       " 'largest',\n",
       " 'construction',\n",
       " 'companies).[8]',\n",
       " 'Other',\n",
       " 'notable',\n",
       " 'subsidiaries',\n",
       " 'include',\n",
       " 'Samsung',\n",
       " 'Life',\n",
       " 'Insurance',\n",
       " '(the',\n",
       " \"world's\",\n",
       " '14th',\n",
       " 'largest',\n",
       " 'life',\n",
       " 'insurance',\n",
       " 'company),[9]',\n",
       " 'Samsung',\n",
       " 'Everland',\n",
       " '(operator',\n",
       " 'of',\n",
       " 'Everland',\n",
       " 'Resort,',\n",
       " 'the',\n",
       " 'oldest',\n",
       " 'theme',\n",
       " 'park',\n",
       " 'in',\n",
       " 'South',\n",
       " 'Korea)[10]',\n",
       " 'and',\n",
       " 'Cheil',\n",
       " 'Worldwide',\n",
       " '(the',\n",
       " \"world's\",\n",
       " '15th',\n",
       " 'largest',\n",
       " 'advertising',\n",
       " 'agency,',\n",
       " 'as',\n",
       " 'measured',\n",
       " 'by',\n",
       " '2012',\n",
       " 'revenues).']"
      ]
     },
     "execution_count": 32,
     "metadata": {},
     "output_type": "execute_result"
    }
   ],
   "source": [
    "sw.split(' ')"
   ]
  },
  {
   "cell_type": "code",
   "execution_count": 33,
   "id": "cf774012",
   "metadata": {},
   "outputs": [
    {
     "data": {
      "text/plain": [
       "1"
      ]
     },
     "execution_count": 33,
     "metadata": {},
     "output_type": "execute_result"
    }
   ],
   "source": [
    "sw.count('value')"
   ]
  },
  {
   "cell_type": "code",
   "execution_count": 34,
   "id": "02d5187c",
   "metadata": {},
   "outputs": [
    {
     "data": {
      "text/plain": [
       "\"THE SAMSUNG GROUP[3] (OR SIMPLY SAMSUNG, STYLIZED AS SΛMSUNG) (KOREAN: 삼성 [SAMSɅŊ]) IS A SOUTH KOREAN MULTINATIONAL MANUFACTURING CONGLOMERATE HEADQUARTERED IN SAMSUNG TOWN, SEOUL, SOUTH KOREA.[1] IT COMPRISES NUMEROUS AFFILIATED BUSINESSES,[1] MOST OF THEM UNITED UNDER THE SAMSUNG BRAND, AND IS THE LARGEST SOUTH KOREAN CHAEBOL (BUSINESS CONGLOMERATE). AS OF 2020, SAMSUNG HAS THE 8TH HIGHEST GLOBAL BRAND VALUE.[4]\\n\\nSAMSUNG WAS FOUNDED BY LEE BYUNG-CHUL IN 1938 AS A TRADING COMPANY. OVER THE NEXT THREE DECADES, THE GROUP DIVERSIFIED INTO AREAS INCLUDING FOOD PROCESSING, TEXTILES, INSURANCE, SECURITIES, AND RETAIL. SAMSUNG ENTERED THE ELECTRONICS INDUSTRY IN THE LATE 1960S AND THE CONSTRUCTION AND SHIPBUILDING INDUSTRIES IN THE MID-1970S; THESE AREAS WOULD DRIVE ITS SUBSEQUENT GROWTH. FOLLOWING LEE'S DEATH IN 1987, SAMSUNG WAS SEPARATED INTO FIVE BUSINESS GROUPS – SAMSUNG GROUP, SHINSEGAE GROUP, CJ GROUP AND HANSOL GROUP, AND JOONGANG GROUP.\\n\\nNOTABLE SAMSUNG INDUSTRIAL AFFILIATES INCLUDE SAMSUNG ELECTRONICS (THE WORLD'S LARGEST INFORMATION TECHNOLOGY COMPANY, CONSUMER ELECTRONICS MAKER AND CHIPMAKER MEASURED BY 2017 REVENUES),[5][6] SAMSUNG HEAVY INDUSTRIES (THE WORLD'S 2ND LARGEST SHIPBUILDER MEASURED BY 2010 REVENUES),[7] AND SAMSUNG ENGINEERING AND SAMSUNG C&T CORPORATION (RESPECTIVELY THE WORLD'S 13TH AND 36TH LARGEST CONSTRUCTION COMPANIES).[8] OTHER NOTABLE SUBSIDIARIES INCLUDE SAMSUNG LIFE INSURANCE (THE WORLD'S 14TH LARGEST LIFE INSURANCE COMPANY),[9] SAMSUNG EVERLAND (OPERATOR OF EVERLAND RESORT, THE OLDEST THEME PARK IN SOUTH KOREA)[10] AND CHEIL WORLDWIDE (THE WORLD'S 15TH LARGEST ADVERTISING AGENCY, AS MEASURED BY 2012 REVENUES).\""
      ]
     },
     "execution_count": 34,
     "metadata": {},
     "output_type": "execute_result"
    }
   ],
   "source": [
    "sw.upper()"
   ]
  },
  {
   "cell_type": "code",
   "execution_count": 35,
   "id": "9fc62731",
   "metadata": {},
   "outputs": [],
   "source": [
    "sw = sw.upper()"
   ]
  },
  {
   "cell_type": "code",
   "execution_count": 36,
   "id": "f994cdc4",
   "metadata": {},
   "outputs": [
    {
     "data": {
      "text/plain": [
       "\"THE SAMSUNG GROUP[3] (OR SIMPLY SAMSUNG, STYLIZED AS SΛMSUNG) (KOREAN: 삼성 [SAMSɅŊ]) IS A SOUTH KOREAN MULTINATIONAL MANUFACTURING CONGLOMERATE HEADQUARTERED IN SAMSUNG TOWN, SEOUL, SOUTH KOREA.[1] IT COMPRISES NUMEROUS AFFILIATED BUSINESSES,[1] MOST OF THEM UNITED UNDER THE SAMSUNG BRAND, AND IS THE LARGEST SOUTH KOREAN CHAEBOL (BUSINESS CONGLOMERATE). AS OF 2020, SAMSUNG HAS THE 8TH HIGHEST GLOBAL BRAND VALUE.[4]\\n\\nSAMSUNG WAS FOUNDED BY LEE BYUNG-CHUL IN 1938 AS A TRADING COMPANY. OVER THE NEXT THREE DECADES, THE GROUP DIVERSIFIED INTO AREAS INCLUDING FOOD PROCESSING, TEXTILES, INSURANCE, SECURITIES, AND RETAIL. SAMSUNG ENTERED THE ELECTRONICS INDUSTRY IN THE LATE 1960S AND THE CONSTRUCTION AND SHIPBUILDING INDUSTRIES IN THE MID-1970S; THESE AREAS WOULD DRIVE ITS SUBSEQUENT GROWTH. FOLLOWING LEE'S DEATH IN 1987, SAMSUNG WAS SEPARATED INTO FIVE BUSINESS GROUPS – SAMSUNG GROUP, SHINSEGAE GROUP, CJ GROUP AND HANSOL GROUP, AND JOONGANG GROUP.\\n\\nNOTABLE SAMSUNG INDUSTRIAL AFFILIATES INCLUDE SAMSUNG ELECTRONICS (THE WORLD'S LARGEST INFORMATION TECHNOLOGY COMPANY, CONSUMER ELECTRONICS MAKER AND CHIPMAKER MEASURED BY 2017 REVENUES),[5][6] SAMSUNG HEAVY INDUSTRIES (THE WORLD'S 2ND LARGEST SHIPBUILDER MEASURED BY 2010 REVENUES),[7] AND SAMSUNG ENGINEERING AND SAMSUNG C&T CORPORATION (RESPECTIVELY THE WORLD'S 13TH AND 36TH LARGEST CONSTRUCTION COMPANIES).[8] OTHER NOTABLE SUBSIDIARIES INCLUDE SAMSUNG LIFE INSURANCE (THE WORLD'S 14TH LARGEST LIFE INSURANCE COMPANY),[9] SAMSUNG EVERLAND (OPERATOR OF EVERLAND RESORT, THE OLDEST THEME PARK IN SOUTH KOREA)[10] AND CHEIL WORLDWIDE (THE WORLD'S 15TH LARGEST ADVERTISING AGENCY, AS MEASURED BY 2012 REVENUES).\""
      ]
     },
     "execution_count": 36,
     "metadata": {},
     "output_type": "execute_result"
    }
   ],
   "source": [
    "sw"
   ]
  },
  {
   "cell_type": "code",
   "execution_count": 37,
   "id": "eb5faeb9",
   "metadata": {},
   "outputs": [],
   "source": [
    "s = \"shubham yadav\"\n"
   ]
  },
  {
   "cell_type": "code",
   "execution_count": 38,
   "id": "2e7df817",
   "metadata": {},
   "outputs": [
    {
     "data": {
      "text/plain": [
       "'Shubham Yadav'"
      ]
     },
     "execution_count": 38,
     "metadata": {},
     "output_type": "execute_result"
    }
   ],
   "source": [
    "s.title()"
   ]
  },
  {
   "cell_type": "code",
   "execution_count": 39,
   "id": "16178029",
   "metadata": {},
   "outputs": [
    {
     "data": {
      "text/plain": [
       "'Shubham yadav'"
      ]
     },
     "execution_count": 39,
     "metadata": {},
     "output_type": "execute_result"
    }
   ],
   "source": [
    "s.capitalize()"
   ]
  },
  {
   "cell_type": "code",
   "execution_count": 40,
   "id": "61afb836",
   "metadata": {},
   "outputs": [],
   "source": [
    "s = \"shubham kUmAR\""
   ]
  },
  {
   "cell_type": "code",
   "execution_count": 41,
   "id": "b797b51b",
   "metadata": {},
   "outputs": [
    {
     "data": {
      "text/plain": [
       "'SHUBHAM KuMar'"
      ]
     },
     "execution_count": 41,
     "metadata": {},
     "output_type": "execute_result"
    }
   ],
   "source": [
    "s.swapcase()"
   ]
  },
  {
   "cell_type": "code",
   "execution_count": 42,
   "id": "60c06fe4",
   "metadata": {},
   "outputs": [
    {
     "data": {
      "text/plain": [
       "<reversed at 0x1698131f340>"
      ]
     },
     "execution_count": 42,
     "metadata": {},
     "output_type": "execute_result"
    }
   ],
   "source": [
    "reversed(s)"
   ]
  },
  {
   "cell_type": "code",
   "execution_count": 43,
   "id": "aefddfeb",
   "metadata": {},
   "outputs": [
    {
     "data": {
      "text/plain": [
       "'RAmUk mahbuhs'"
      ]
     },
     "execution_count": 43,
     "metadata": {},
     "output_type": "execute_result"
    }
   ],
   "source": [
    "''.join(reversed(s))"
   ]
  },
  {
   "cell_type": "code",
   "execution_count": null,
   "id": "c3bcce1c",
   "metadata": {},
   "outputs": [],
   "source": []
  },
  {
   "cell_type": "code",
   "execution_count": 44,
   "id": "f3cb4be7",
   "metadata": {},
   "outputs": [],
   "source": [
    "s = \"  sudh  \""
   ]
  },
  {
   "cell_type": "code",
   "execution_count": 45,
   "id": "460b0b85",
   "metadata": {},
   "outputs": [
    {
     "data": {
      "text/plain": [
       "'sudh'"
      ]
     },
     "execution_count": 45,
     "metadata": {},
     "output_type": "execute_result"
    }
   ],
   "source": [
    "s.strip()"
   ]
  },
  {
   "cell_type": "code",
   "execution_count": 46,
   "id": "6d2493e4",
   "metadata": {},
   "outputs": [
    {
     "data": {
      "text/plain": [
       "'sudh  '"
      ]
     },
     "execution_count": 46,
     "metadata": {},
     "output_type": "execute_result"
    }
   ],
   "source": [
    "s.lstrip()"
   ]
  },
  {
   "cell_type": "code",
   "execution_count": 47,
   "id": "8eab9354",
   "metadata": {},
   "outputs": [
    {
     "data": {
      "text/plain": [
       "'  sudh'"
      ]
     },
     "execution_count": 47,
     "metadata": {},
     "output_type": "execute_result"
    }
   ],
   "source": [
    "s.rstrip()"
   ]
  },
  {
   "cell_type": "code",
   "execution_count": 48,
   "id": "72a22361",
   "metadata": {},
   "outputs": [
    {
     "data": {
      "text/plain": [
       "'sAhAuAbAhAaAm'"
      ]
     },
     "execution_count": 48,
     "metadata": {},
     "output_type": "execute_result"
    }
   ],
   "source": [
    "\"A\" . join(\"shubham\")"
   ]
  },
  {
   "cell_type": "code",
   "execution_count": 49,
   "id": "57330156",
   "metadata": {},
   "outputs": [],
   "source": [
    "s = \"sudh\""
   ]
  },
  {
   "cell_type": "code",
   "execution_count": 50,
   "id": "b81ae304",
   "metadata": {},
   "outputs": [
    {
     "data": {
      "text/plain": [
       "'zzzzzzzzsudhzzzzzzzz'"
      ]
     },
     "execution_count": 50,
     "metadata": {},
     "output_type": "execute_result"
    }
   ],
   "source": [
    "s.center(20 , 'z')"
   ]
  },
  {
   "cell_type": "code",
   "execution_count": 51,
   "id": "7b249eef",
   "metadata": {},
   "outputs": [],
   "source": [
    "s = \"sudhanshu\""
   ]
  },
  {
   "cell_type": "code",
   "execution_count": 52,
   "id": "9ee0d4c7",
   "metadata": {},
   "outputs": [
    {
     "data": {
      "text/plain": [
       "False"
      ]
     },
     "execution_count": 52,
     "metadata": {},
     "output_type": "execute_result"
    }
   ],
   "source": [
    "s.isupper()"
   ]
  },
  {
   "cell_type": "code",
   "execution_count": 53,
   "id": "31e145f8",
   "metadata": {},
   "outputs": [],
   "source": [
    "s1 = \"SHUBHAM\""
   ]
  },
  {
   "cell_type": "code",
   "execution_count": 54,
   "id": "eeed9794",
   "metadata": {},
   "outputs": [
    {
     "data": {
      "text/plain": [
       "True"
      ]
     },
     "execution_count": 54,
     "metadata": {},
     "output_type": "execute_result"
    }
   ],
   "source": [
    "s1.isupper()"
   ]
  },
  {
   "cell_type": "code",
   "execution_count": 55,
   "id": "3ba6dace",
   "metadata": {},
   "outputs": [
    {
     "data": {
      "text/plain": [
       "True"
      ]
     },
     "execution_count": 55,
     "metadata": {},
     "output_type": "execute_result"
    }
   ],
   "source": [
    "s.islower()"
   ]
  },
  {
   "cell_type": "code",
   "execution_count": 56,
   "id": "db08924d",
   "metadata": {},
   "outputs": [
    {
     "data": {
      "text/plain": [
       "False"
      ]
     },
     "execution_count": 56,
     "metadata": {},
     "output_type": "execute_result"
    }
   ],
   "source": [
    "s.isspace()"
   ]
  },
  {
   "cell_type": "code",
   "execution_count": 57,
   "id": "52ebb3bf",
   "metadata": {},
   "outputs": [],
   "source": [
    "s4 = \"  \""
   ]
  },
  {
   "cell_type": "code",
   "execution_count": 58,
   "id": "34fe03c3",
   "metadata": {},
   "outputs": [
    {
     "data": {
      "text/plain": [
       "True"
      ]
     },
     "execution_count": 58,
     "metadata": {},
     "output_type": "execute_result"
    }
   ],
   "source": [
    "s4.isspace()"
   ]
  },
  {
   "cell_type": "code",
   "execution_count": 59,
   "id": "4894303a",
   "metadata": {},
   "outputs": [
    {
     "data": {
      "text/plain": [
       "False"
      ]
     },
     "execution_count": 59,
     "metadata": {},
     "output_type": "execute_result"
    }
   ],
   "source": [
    "s.isdigit()"
   ]
  },
  {
   "cell_type": "code",
   "execution_count": 60,
   "id": "a790770c",
   "metadata": {},
   "outputs": [],
   "source": [
    "s5 = \"shubham10\""
   ]
  },
  {
   "cell_type": "code",
   "execution_count": 61,
   "id": "66dad9fe",
   "metadata": {},
   "outputs": [
    {
     "data": {
      "text/plain": [
       "False"
      ]
     },
     "execution_count": 61,
     "metadata": {},
     "output_type": "execute_result"
    }
   ],
   "source": [
    "s5.isdigit()"
   ]
  },
  {
   "cell_type": "code",
   "execution_count": 62,
   "id": "c78a0b67",
   "metadata": {},
   "outputs": [],
   "source": [
    "s6 = \"4578678\""
   ]
  },
  {
   "cell_type": "code",
   "execution_count": 63,
   "id": "69f46849",
   "metadata": {},
   "outputs": [
    {
     "data": {
      "text/plain": [
       "True"
      ]
     },
     "execution_count": 63,
     "metadata": {},
     "output_type": "execute_result"
    }
   ],
   "source": [
    "s6.isdigit()"
   ]
  },
  {
   "cell_type": "code",
   "execution_count": 64,
   "id": "4aaddfe5",
   "metadata": {},
   "outputs": [
    {
     "data": {
      "text/plain": [
       "True"
      ]
     },
     "execution_count": 64,
     "metadata": {},
     "output_type": "execute_result"
    }
   ],
   "source": [
    "s5.isalnum()"
   ]
  },
  {
   "cell_type": "code",
   "execution_count": 65,
   "id": "86c587e8",
   "metadata": {},
   "outputs": [
    {
     "data": {
      "text/plain": [
       "True"
      ]
     },
     "execution_count": 65,
     "metadata": {},
     "output_type": "execute_result"
    }
   ],
   "source": [
    "s.isalpha()"
   ]
  },
  {
   "cell_type": "code",
   "execution_count": 66,
   "id": "462e4cff",
   "metadata": {},
   "outputs": [],
   "source": [
    "s7 = \"468468dgsfs\""
   ]
  },
  {
   "cell_type": "code",
   "execution_count": 67,
   "id": "d4d1c080",
   "metadata": {},
   "outputs": [
    {
     "data": {
      "text/plain": [
       "False"
      ]
     },
     "execution_count": 67,
     "metadata": {},
     "output_type": "execute_result"
    }
   ],
   "source": [
    "s7.isalpha()"
   ]
  },
  {
   "cell_type": "code",
   "execution_count": 68,
   "id": "a0f6df90",
   "metadata": {},
   "outputs": [
    {
     "data": {
      "text/plain": [
       "True"
      ]
     },
     "execution_count": 68,
     "metadata": {},
     "output_type": "execute_result"
    }
   ],
   "source": [
    "s7.isalnum()"
   ]
  },
  {
   "cell_type": "code",
   "execution_count": 69,
   "id": "7bbf2aa7",
   "metadata": {},
   "outputs": [
    {
     "data": {
      "text/plain": [
       "'sudhanshu'"
      ]
     },
     "execution_count": 69,
     "metadata": {},
     "output_type": "execute_result"
    }
   ],
   "source": [
    "s"
   ]
  },
  {
   "cell_type": "code",
   "execution_count": 70,
   "id": "4832ec87",
   "metadata": {},
   "outputs": [
    {
     "data": {
      "text/plain": [
       "False"
      ]
     },
     "execution_count": 70,
     "metadata": {},
     "output_type": "execute_result"
    }
   ],
   "source": [
    "s.startswith('i')"
   ]
  },
  {
   "cell_type": "code",
   "execution_count": 71,
   "id": "86e10e7b",
   "metadata": {},
   "outputs": [
    {
     "data": {
      "text/plain": [
       "False"
      ]
     },
     "execution_count": 71,
     "metadata": {},
     "output_type": "execute_result"
    }
   ],
   "source": [
    "s.startswith('S')"
   ]
  },
  {
   "cell_type": "code",
   "execution_count": 72,
   "id": "d91d01bc",
   "metadata": {},
   "outputs": [
    {
     "data": {
      "text/plain": [
       "True"
      ]
     },
     "execution_count": 72,
     "metadata": {},
     "output_type": "execute_result"
    }
   ],
   "source": [
    "s.startswith('s')"
   ]
  },
  {
   "cell_type": "code",
   "execution_count": 73,
   "id": "0fe8ea86",
   "metadata": {},
   "outputs": [
    {
     "data": {
      "text/plain": [
       "'Sudhanshu'"
      ]
     },
     "execution_count": 73,
     "metadata": {},
     "output_type": "execute_result"
    }
   ],
   "source": [
    "s.title()"
   ]
  },
  {
   "cell_type": "code",
   "execution_count": 74,
   "id": "05869d33",
   "metadata": {},
   "outputs": [
    {
     "data": {
      "text/plain": [
       "True"
      ]
     },
     "execution_count": 74,
     "metadata": {},
     "output_type": "execute_result"
    }
   ],
   "source": [
    "s.endswith('u')"
   ]
  },
  {
   "cell_type": "code",
   "execution_count": 75,
   "id": "5ba14399",
   "metadata": {},
   "outputs": [
    {
     "data": {
      "text/plain": [
       "False"
      ]
     },
     "execution_count": 75,
     "metadata": {},
     "output_type": "execute_result"
    }
   ],
   "source": [
    "s.endswith(\"s\")"
   ]
  },
  {
   "cell_type": "code",
   "execution_count": 76,
   "id": "39415f73",
   "metadata": {},
   "outputs": [
    {
     "data": {
      "text/plain": [
       "'sudhanshu'"
      ]
     },
     "execution_count": 76,
     "metadata": {},
     "output_type": "execute_result"
    }
   ],
   "source": [
    "s"
   ]
  },
  {
   "cell_type": "code",
   "execution_count": 77,
   "id": "adcc39b5",
   "metadata": {},
   "outputs": [],
   "source": [
    "s = s.title()"
   ]
  },
  {
   "cell_type": "code",
   "execution_count": 78,
   "id": "f77b234c",
   "metadata": {},
   "outputs": [
    {
     "data": {
      "text/plain": [
       "'Sudhanshu'"
      ]
     },
     "execution_count": 78,
     "metadata": {},
     "output_type": "execute_result"
    }
   ],
   "source": [
    "s"
   ]
  },
  {
   "cell_type": "code",
   "execution_count": 79,
   "id": "5c887a67",
   "metadata": {},
   "outputs": [
    {
     "data": {
      "text/plain": [
       "False"
      ]
     },
     "execution_count": 79,
     "metadata": {},
     "output_type": "execute_result"
    }
   ],
   "source": [
    "s.isdigit()"
   ]
  },
  {
   "cell_type": "code",
   "execution_count": 80,
   "id": "e2e9b341",
   "metadata": {},
   "outputs": [
    {
     "data": {
      "text/plain": [
       "False"
      ]
     },
     "execution_count": 80,
     "metadata": {},
     "output_type": "execute_result"
    }
   ],
   "source": [
    "s.startswith(\" \")"
   ]
  },
  {
   "cell_type": "code",
   "execution_count": 81,
   "id": "56e19e35",
   "metadata": {},
   "outputs": [
    {
     "data": {
      "text/plain": [
       "True"
      ]
     },
     "execution_count": 81,
     "metadata": {},
     "output_type": "execute_result"
    }
   ],
   "source": [
    "s.isascii()"
   ]
  },
  {
   "cell_type": "code",
   "execution_count": 82,
   "id": "e9028ba9",
   "metadata": {},
   "outputs": [],
   "source": [
    "s = \"sudhanshu\\tkumar\\tineuron\\t\""
   ]
  },
  {
   "cell_type": "code",
   "execution_count": 83,
   "id": "2e439111",
   "metadata": {},
   "outputs": [
    {
     "data": {
      "text/plain": [
       "'sudhanshu       kumar   ineuron '"
      ]
     },
     "execution_count": 83,
     "metadata": {},
     "output_type": "execute_result"
    }
   ],
   "source": [
    "s.expandtabs()"
   ]
  },
  {
   "cell_type": "code",
   "execution_count": 84,
   "id": "c34527e5",
   "metadata": {},
   "outputs": [],
   "source": [
    "d3 = 'aaa'"
   ]
  },
  {
   "cell_type": "code",
   "execution_count": 85,
   "id": "bb9279c9",
   "metadata": {},
   "outputs": [
    {
     "data": {
      "text/plain": [
       "True"
      ]
     },
     "execution_count": 85,
     "metadata": {},
     "output_type": "execute_result"
    }
   ],
   "source": [
    "d3.isalnum()"
   ]
  },
  {
   "cell_type": "code",
   "execution_count": 86,
   "id": "67b4ac7a",
   "metadata": {},
   "outputs": [
    {
     "data": {
      "text/plain": [
       "True"
      ]
     },
     "execution_count": 86,
     "metadata": {},
     "output_type": "execute_result"
    }
   ],
   "source": [
    "d3.isalpha()"
   ]
  },
  {
   "cell_type": "code",
   "execution_count": null,
   "id": "6619bbb2",
   "metadata": {},
   "outputs": [],
   "source": []
  },
  {
   "cell_type": "code",
   "execution_count": null,
   "id": "fd9872d4",
   "metadata": {},
   "outputs": [],
   "source": []
  },
  {
   "cell_type": "code",
   "execution_count": null,
   "id": "bcb9e657",
   "metadata": {},
   "outputs": [],
   "source": []
  },
  {
   "cell_type": "code",
   "execution_count": null,
   "id": "c4714a3c",
   "metadata": {},
   "outputs": [],
   "source": []
  },
  {
   "cell_type": "code",
   "execution_count": null,
   "id": "d89546e0",
   "metadata": {},
   "outputs": [],
   "source": []
  }
 ],
 "metadata": {
  "kernelspec": {
   "display_name": "Python 3 (ipykernel)",
   "language": "python",
   "name": "python3"
  },
  "language_info": {
   "codemirror_mode": {
    "name": "ipython",
    "version": 3
   },
   "file_extension": ".py",
   "mimetype": "text/x-python",
   "name": "python",
   "nbconvert_exporter": "python",
   "pygments_lexer": "ipython3",
   "version": "3.9.12"
  }
 },
 "nbformat": 4,
 "nbformat_minor": 5
}
