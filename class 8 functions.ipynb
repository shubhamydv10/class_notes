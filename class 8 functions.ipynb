{
 "cells": [
  {
   "cell_type": "code",
   "execution_count": 5,
   "id": "b0f5a3a8",
   "metadata": {},
   "outputs": [],
   "source": [
    "def test(a, b) :\n",
    "    '''this is my fuction for concatination or addition'''\n",
    "    return a+b\n",
    "    "
   ]
  },
  {
   "cell_type": "code",
   "execution_count": 6,
   "id": "77358851",
   "metadata": {},
   "outputs": [
    {
     "data": {
      "text/plain": [
       "9"
      ]
     },
     "execution_count": 6,
     "metadata": {},
     "output_type": "execute_result"
    }
   ],
   "source": [
    "test(4,5)"
   ]
  },
  {
   "cell_type": "code",
   "execution_count": 7,
   "id": "3c1ce925",
   "metadata": {},
   "outputs": [
    {
     "data": {
      "text/plain": [
       "'sudh kumar'"
      ]
     },
     "execution_count": 7,
     "metadata": {},
     "output_type": "execute_result"
    }
   ],
   "source": [
    "test(\"sudh \" , \"kumar\")"
   ]
  },
  {
   "cell_type": "code",
   "execution_count": 8,
   "id": "a1f2e1be",
   "metadata": {},
   "outputs": [
    {
     "data": {
      "text/plain": [
       "28"
      ]
     },
     "execution_count": 8,
     "metadata": {},
     "output_type": "execute_result"
    }
   ],
   "source": [
    "test(a=6 , b=22)"
   ]
  },
  {
   "cell_type": "code",
   "execution_count": 9,
   "id": "0486061f",
   "metadata": {},
   "outputs": [
    {
     "data": {
      "text/plain": [
       "99"
      ]
     },
     "execution_count": 9,
     "metadata": {},
     "output_type": "execute_result"
    }
   ],
   "source": [
    "test(b =55,a=44)"
   ]
  },
  {
   "cell_type": "code",
   "execution_count": 11,
   "id": "9a0ccd55",
   "metadata": {},
   "outputs": [],
   "source": [
    "def test1(a,b,c,d,e):\n",
    "    return a,b,c,d,e"
   ]
  },
  {
   "cell_type": "code",
   "execution_count": 12,
   "id": "b68d58ae",
   "metadata": {},
   "outputs": [
    {
     "data": {
      "text/plain": [
       "(1, 5, 6, 8, 4)"
      ]
     },
     "execution_count": 12,
     "metadata": {},
     "output_type": "execute_result"
    }
   ],
   "source": [
    "test1(1,5,6,8,4)"
   ]
  },
  {
   "cell_type": "code",
   "execution_count": 10,
   "id": "b7701dd8",
   "metadata": {},
   "outputs": [],
   "source": [
    "def test(*a):\n",
    "    return a"
   ]
  },
  {
   "cell_type": "code",
   "execution_count": 11,
   "id": "966ed8a9",
   "metadata": {},
   "outputs": [
    {
     "data": {
      "text/plain": [
       "(4, 46, 46, 45, 64)"
      ]
     },
     "execution_count": 11,
     "metadata": {},
     "output_type": "execute_result"
    }
   ],
   "source": [
    "test(4,46,46,45,64)"
   ]
  },
  {
   "cell_type": "code",
   "execution_count": 15,
   "id": "23c6aaad",
   "metadata": {},
   "outputs": [
    {
     "data": {
      "text/plain": [
       "(4, 56, 9, 36, 9, 3, 496, [1, 2, 3, 4, 9, 5, 4, 96])"
      ]
     },
     "execution_count": 15,
     "metadata": {},
     "output_type": "execute_result"
    }
   ],
   "source": [
    "test(4,56,9,36,9,3,496,[1,2,3,4,9,5,4,96])"
   ]
  },
  {
   "cell_type": "code",
   "execution_count": 16,
   "id": "b23d9125",
   "metadata": {},
   "outputs": [],
   "source": [
    "def test2(*shubh):\n",
    "    return shubh"
   ]
  },
  {
   "cell_type": "code",
   "execution_count": 17,
   "id": "90cafa1a",
   "metadata": {},
   "outputs": [
    {
     "data": {
      "text/plain": [
       "(2, 3, 5, 9, 5, 96, 1, 58, 96)"
      ]
     },
     "execution_count": 17,
     "metadata": {},
     "output_type": "execute_result"
    }
   ],
   "source": [
    "test2(2,3,5,9,5,96,1,58,96)"
   ]
  },
  {
   "cell_type": "code",
   "execution_count": 18,
   "id": "5cf6d0ad",
   "metadata": {},
   "outputs": [],
   "source": [
    "#function that will return list\n",
    "def test5(*a):\n",
    "    l = []\n",
    "    for i in a:\n",
    "        l.append(i)\n",
    "    return l"
   ]
  },
  {
   "cell_type": "code",
   "execution_count": 19,
   "id": "0ff78353",
   "metadata": {},
   "outputs": [
    {
     "data": {
      "text/plain": [
       "[2, 3, 4, 5, 5, [35, 45, 64]]"
      ]
     },
     "execution_count": 19,
     "metadata": {},
     "output_type": "execute_result"
    }
   ],
   "source": [
    "test5(2,3,4,5,5,[35,45,64])"
   ]
  },
  {
   "cell_type": "code",
   "execution_count": 20,
   "id": "1946b382",
   "metadata": {},
   "outputs": [
    {
     "data": {
      "text/plain": [
       "[3, 5, 69, 1, 6, 'subh', 'yadav']"
      ]
     },
     "execution_count": 20,
     "metadata": {},
     "output_type": "execute_result"
    }
   ],
   "source": [
    "test5(3,5,69,1,6,\"subh\" , \"yadav\")"
   ]
  },
  {
   "cell_type": "code",
   "execution_count": 21,
   "id": "4ddc51d8",
   "metadata": {},
   "outputs": [],
   "source": [
    "def test6(a,b,c,d,*m):\n",
    "    return a,b,c,d,m"
   ]
  },
  {
   "cell_type": "code",
   "execution_count": 22,
   "id": "c8e57c2f",
   "metadata": {},
   "outputs": [
    {
     "data": {
      "text/plain": [
       "(1, 2, 3, 6, (5, 5, 6, 4, 89, 45, 6, 5, 6, 5, 6, 5))"
      ]
     },
     "execution_count": 22,
     "metadata": {},
     "output_type": "execute_result"
    }
   ],
   "source": [
    "test6(1,2,3,6,5,5,6,4,89,45,6,5,6,5,6,5)"
   ]
  },
  {
   "cell_type": "code",
   "execution_count": 23,
   "id": "ebd22327",
   "metadata": {},
   "outputs": [],
   "source": [
    "def test7(*m,a,b,c,d):\n",
    "    return m,a,b,c,d"
   ]
  },
  {
   "cell_type": "code",
   "execution_count": 24,
   "id": "42a42c4c",
   "metadata": {},
   "outputs": [
    {
     "ename": "TypeError",
     "evalue": "test7() missing 4 required keyword-only arguments: 'a', 'b', 'c', and 'd'",
     "output_type": "error",
     "traceback": [
      "\u001b[1;31m---------------------------------------------------------------------------\u001b[0m",
      "\u001b[1;31mTypeError\u001b[0m                                 Traceback (most recent call last)",
      "Input \u001b[1;32mIn [24]\u001b[0m, in \u001b[0;36m<cell line: 1>\u001b[1;34m()\u001b[0m\n\u001b[1;32m----> 1\u001b[0m \u001b[43mtest7\u001b[49m\u001b[43m(\u001b[49m\u001b[38;5;241;43m1\u001b[39;49m\u001b[43m,\u001b[49m\u001b[38;5;241;43m2\u001b[39;49m\u001b[43m,\u001b[49m\u001b[38;5;241;43m3\u001b[39;49m\u001b[43m,\u001b[49m\u001b[38;5;241;43m5\u001b[39;49m\u001b[43m,\u001b[49m\u001b[38;5;241;43m4\u001b[39;49m\u001b[43m,\u001b[49m\u001b[38;5;241;43m6\u001b[39;49m\u001b[43m,\u001b[49m\u001b[38;5;241;43m99\u001b[39;49m\u001b[43m,\u001b[49m\u001b[38;5;241;43m7\u001b[39;49m\u001b[43m,\u001b[49m\u001b[38;5;241;43m85\u001b[39;49m\u001b[43m)\u001b[49m\n",
      "\u001b[1;31mTypeError\u001b[0m: test7() missing 4 required keyword-only arguments: 'a', 'b', 'c', and 'd'"
     ]
    }
   ],
   "source": [
    "test7(1,2,3,5,4,6,99,7,85)"
   ]
  },
  {
   "cell_type": "code",
   "execution_count": null,
   "id": "4e13d9cc",
   "metadata": {},
   "outputs": [],
   "source": [
    "test7(1,2,3,5,4,6,99,7,85, a=55,b=89,c=69,d=90)"
   ]
  },
  {
   "cell_type": "code",
   "execution_count": null,
   "id": "67d76aaa",
   "metadata": {},
   "outputs": [],
   "source": [
    "def test8(**shub):\n",
    "    return shub"
   ]
  },
  {
   "cell_type": "code",
   "execution_count": null,
   "id": "20d3ab54",
   "metadata": {},
   "outputs": [],
   "source": [
    "test8(b=4,c=5,d=6,e=6)"
   ]
  },
  {
   "cell_type": "code",
   "execution_count": null,
   "id": "68626a30",
   "metadata": {},
   "outputs": [],
   "source": [
    "d={'b': 4, 'c': 5, 'd': 6, 'e': 6}"
   ]
  },
  {
   "cell_type": "code",
   "execution_count": null,
   "id": "e5745161",
   "metadata": {},
   "outputs": [],
   "source": [
    "test8(n='shubham')"
   ]
  },
  {
   "cell_type": "code",
   "execution_count": null,
   "id": "d60ef9fa",
   "metadata": {},
   "outputs": [],
   "source": [
    "def test9(*m,**s):\n",
    "    return m , s"
   ]
  },
  {
   "cell_type": "code",
   "execution_count": null,
   "id": "14c70831",
   "metadata": {},
   "outputs": [],
   "source": [
    "test9(5,54,65,65,65,78,65,456,35,65,596, a=5,b=4,c=8,d=7)"
   ]
  },
  {
   "cell_type": "code",
   "execution_count": 1,
   "id": "1b45b8e5",
   "metadata": {},
   "outputs": [],
   "source": [
    "def test10(*m):\n",
    "    n=0\n",
    "    for i in m:\n",
    "        if type(i)==int:\n",
    "            n=n+i\n",
    "    return n\n",
    "            "
   ]
  },
  {
   "cell_type": "code",
   "execution_count": 2,
   "id": "38feae65",
   "metadata": {},
   "outputs": [
    {
     "data": {
      "text/plain": [
       "31"
      ]
     },
     "execution_count": 2,
     "metadata": {},
     "output_type": "execute_result"
    }
   ],
   "source": [
    "test10(2,3,4,5,5,6,6)"
   ]
  },
  {
   "cell_type": "code",
   "execution_count": 3,
   "id": "34b3ae5e",
   "metadata": {},
   "outputs": [],
   "source": [
    "def test11(*m):\n",
    "    n=1\n",
    "    for i in m:\n",
    "        if type(i)==int:\n",
    "            n=n*i\n",
    "    return n"
   ]
  },
  {
   "cell_type": "code",
   "execution_count": 4,
   "id": "fc47829a",
   "metadata": {},
   "outputs": [
    {
     "data": {
      "text/plain": [
       "583200"
      ]
     },
     "execution_count": 4,
     "metadata": {},
     "output_type": "execute_result"
    }
   ],
   "source": [
    "test11(2,6,5,9,5,6,9,4)"
   ]
  },
  {
   "cell_type": "code",
   "execution_count": null,
   "id": "048e198a",
   "metadata": {},
   "outputs": [],
   "source": [
    " #anonomous function"
   ]
  },
  {
   "cell_type": "code",
   "execution_count": null,
   "id": "099596e5",
   "metadata": {},
   "outputs": [],
   "source": [
    "n = lambda a,b : a+b    "
   ]
  },
  {
   "cell_type": "code",
   "execution_count": null,
   "id": "8cf9b4dd",
   "metadata": {},
   "outputs": [],
   "source": [
    "n"
   ]
  },
  {
   "cell_type": "code",
   "execution_count": null,
   "id": "0b1d7aff",
   "metadata": {},
   "outputs": [],
   "source": [
    "n(4,5)"
   ]
  },
  {
   "cell_type": "code",
   "execution_count": null,
   "id": "2e924d1d",
   "metadata": {},
   "outputs": [],
   "source": [
    "b=lambda *sudh : sudh"
   ]
  },
  {
   "cell_type": "code",
   "execution_count": null,
   "id": "e19a8ea3",
   "metadata": {},
   "outputs": [],
   "source": [
    "b(4,5,5,6,5,45,56,6,56,5)"
   ]
  },
  {
   "cell_type": "code",
   "execution_count": null,
   "id": "f782a862",
   "metadata": {},
   "outputs": [],
   "source": [
    "#comprehension"
   ]
  },
  {
   "cell_type": "code",
   "execution_count": 25,
   "id": "bbb5b972",
   "metadata": {},
   "outputs": [],
   "source": [
    "t = (3,4,4,5,5,6,67,7,7)\n",
    "l=[]\n",
    "for i in t:\n",
    "    l.append(i)"
   ]
  },
  {
   "cell_type": "code",
   "execution_count": 26,
   "id": "92c4eb9f",
   "metadata": {},
   "outputs": [
    {
     "data": {
      "text/plain": [
       "[3, 4, 4, 5, 5, 6, 67, 7, 7]"
      ]
     },
     "execution_count": 26,
     "metadata": {},
     "output_type": "execute_result"
    }
   ],
   "source": [
    "l"
   ]
  },
  {
   "cell_type": "code",
   "execution_count": 27,
   "id": "cd0bdcc9",
   "metadata": {},
   "outputs": [
    {
     "data": {
      "text/plain": [
       "[3, 4, 4, 5, 5, 6, 67, 7, 7]"
      ]
     },
     "execution_count": 27,
     "metadata": {},
     "output_type": "execute_result"
    }
   ],
   "source": [
    "[i for i in t]   #list comprehension operation"
   ]
  },
  {
   "cell_type": "code",
   "execution_count": 28,
   "id": "d37ee0d6",
   "metadata": {},
   "outputs": [],
   "source": [
    "s = \"sudh\""
   ]
  },
  {
   "cell_type": "code",
   "execution_count": 29,
   "id": "ccbe3f4e",
   "metadata": {},
   "outputs": [
    {
     "data": {
      "text/plain": [
       "['s', 'u', 'd', 'h']"
      ]
     },
     "execution_count": 29,
     "metadata": {},
     "output_type": "execute_result"
    }
   ],
   "source": [
    "[i for i in s]"
   ]
  },
  {
   "cell_type": "code",
   "execution_count": 30,
   "id": "4b1b5197",
   "metadata": {},
   "outputs": [
    {
     "data": {
      "text/plain": [
       "[1, 4, 9, 16, 25, 36, 49, 64, 81]"
      ]
     },
     "execution_count": 30,
     "metadata": {},
     "output_type": "execute_result"
    }
   ],
   "source": [
    "[i*i for i in range(1,10)]"
   ]
  },
  {
   "cell_type": "code",
   "execution_count": 31,
   "id": "006c5615",
   "metadata": {},
   "outputs": [
    {
     "name": "stdout",
     "output_type": "stream",
     "text": [
      "[1, 4, 9, 16, 25, 36, 49, 64, 81]\n"
     ]
    }
   ],
   "source": [
    "l1=[]\n",
    "for i in range(1,10):\n",
    "    m=i*i\n",
    "    l1.append(m)\n",
    "print(l1)"
   ]
  },
  {
   "cell_type": "code",
   "execution_count": 32,
   "id": "6391c82f",
   "metadata": {},
   "outputs": [],
   "source": [
    "l = lambda *x: [i for i in x]"
   ]
  },
  {
   "cell_type": "code",
   "execution_count": 33,
   "id": "d43b4122",
   "metadata": {},
   "outputs": [
    {
     "data": {
      "text/plain": [
       "[4, 54, 6, 5, 9, 5, 8, 6]"
      ]
     },
     "execution_count": 33,
     "metadata": {},
     "output_type": "execute_result"
    }
   ],
   "source": [
    "l(4,54,6,5,9,5,8,6)"
   ]
  },
  {
   "cell_type": "code",
   "execution_count": 34,
   "id": "abd0be47",
   "metadata": {},
   "outputs": [],
   "source": [
    "l = lambda *x: [i**2 for i in x]"
   ]
  },
  {
   "cell_type": "code",
   "execution_count": 35,
   "id": "7612814b",
   "metadata": {},
   "outputs": [
    {
     "data": {
      "text/plain": [
       "[16, 25, 36, 81, 64, 49]"
      ]
     },
     "execution_count": 35,
     "metadata": {},
     "output_type": "execute_result"
    }
   ],
   "source": [
    "l(4,5,6,9,8,7)"
   ]
  },
  {
   "cell_type": "code",
   "execution_count": 36,
   "id": "c1415a0d",
   "metadata": {},
   "outputs": [
    {
     "ename": "NameError",
     "evalue": "name 'test14' is not defined",
     "output_type": "error",
     "traceback": [
      "\u001b[1;31m---------------------------------------------------------------------------\u001b[0m",
      "\u001b[1;31mNameError\u001b[0m                                 Traceback (most recent call last)",
      "Input \u001b[1;32mIn [36]\u001b[0m, in \u001b[0;36m<cell line: 1>\u001b[1;34m()\u001b[0m\n\u001b[1;32m----> 1\u001b[0m \u001b[43mtest14\u001b[49m(a\u001b[38;5;241m=\u001b[39m\u001b[38;5;241m7\u001b[39m , b\u001b[38;5;241m=\u001b[39m \u001b[38;5;124m'\u001b[39m\u001b[38;5;124msudh\u001b[39m\u001b[38;5;124m'\u001b[39m, c\u001b[38;5;241m=\u001b[39m\u001b[38;5;241m345\u001b[39m,d\u001b[38;5;241m=\u001b[39m\u001b[38;5;124m'\u001b[39m\u001b[38;5;124msudh\u001b[39m\u001b[38;5;124m'\u001b[39m, l \u001b[38;5;241m=\u001b[39m[\u001b[38;5;241m2\u001b[39m,\u001b[38;5;241m3\u001b[39m,\u001b[38;5;241m4\u001b[39m,\u001b[38;5;241m45\u001b[39m,\u001b[38;5;124m\"\u001b[39m\u001b[38;5;124msudh\u001b[39m\u001b[38;5;124m\"\u001b[39m])\n",
      "\u001b[1;31mNameError\u001b[0m: name 'test14' is not defined"
     ]
    }
   ],
   "source": [
    "test14(a=7 , b= 'sudh', c=345,d='sudh', l =[2,3,4,45,\"sudh\"])"
   ]
  },
  {
   "cell_type": "code",
   "execution_count": 37,
   "id": "9befafcb",
   "metadata": {},
   "outputs": [],
   "source": [
    "def test14(**sh):\n",
    "    count = 0\n",
    "    for i in sh.values():\n",
    "        if type(i)==str or type(i)==list:\n",
    "            count = count+1\n",
    "    return count\n",
    "        "
   ]
  },
  {
   "cell_type": "code",
   "execution_count": 38,
   "id": "9ab69ca9",
   "metadata": {},
   "outputs": [
    {
     "data": {
      "text/plain": [
       "3"
      ]
     },
     "execution_count": 38,
     "metadata": {},
     "output_type": "execute_result"
    }
   ],
   "source": [
    "test14(a=7 , b= 'sudh', c=345,d='sudh', l =[2,3,4,45,\"sudh\"])"
   ]
  },
  {
   "cell_type": "code",
   "execution_count": 39,
   "id": "f90dc432",
   "metadata": {},
   "outputs": [],
   "source": [
    "def test15(**sh):\n",
    "    return list(sh.values())"
   ]
  },
  {
   "cell_type": "code",
   "execution_count": 40,
   "id": "96cf7051",
   "metadata": {},
   "outputs": [
    {
     "data": {
      "text/plain": [
       "[7, 'sudh', 345, 'sudh', [2, 3, 4, 45, 'sudh']]"
      ]
     },
     "execution_count": 40,
     "metadata": {},
     "output_type": "execute_result"
    }
   ],
   "source": [
    "test15(a=7 , b= 'sudh', c=345,d='sudh', l =[2,3,4,45,\"sudh\"])"
   ]
  },
  {
   "cell_type": "code",
   "execution_count": 41,
   "id": "04e7517f",
   "metadata": {},
   "outputs": [],
   "source": [
    "def tad(a, b) :\n",
    "    '''this is my fuction for concatination or addition'''\n",
    "    \n",
    "    "
   ]
  },
  {
   "cell_type": "code",
   "execution_count": 42,
   "id": "4f54d020",
   "metadata": {},
   "outputs": [],
   "source": [
    "tad(5,9)"
   ]
  },
  {
   "cell_type": "code",
   "execution_count": null,
   "id": "260528e0",
   "metadata": {},
   "outputs": [],
   "source": []
  },
  {
   "cell_type": "code",
   "execution_count": null,
   "id": "fceb199f",
   "metadata": {},
   "outputs": [],
   "source": []
  },
  {
   "cell_type": "code",
   "execution_count": null,
   "id": "9f78a34a",
   "metadata": {},
   "outputs": [],
   "source": []
  },
  {
   "cell_type": "code",
   "execution_count": null,
   "id": "76f0c0c5",
   "metadata": {},
   "outputs": [],
   "source": []
  },
  {
   "cell_type": "code",
   "execution_count": null,
   "id": "49d90df6",
   "metadata": {},
   "outputs": [],
   "source": []
  }
 ],
 "metadata": {
  "kernelspec": {
   "display_name": "Python 3 (ipykernel)",
   "language": "python",
   "name": "python3"
  },
  "language_info": {
   "codemirror_mode": {
    "name": "ipython",
    "version": 3
   },
   "file_extension": ".py",
   "mimetype": "text/x-python",
   "name": "python",
   "nbconvert_exporter": "python",
   "pygments_lexer": "ipython3",
   "version": "3.9.12"
  }
 },
 "nbformat": 4,
 "nbformat_minor": 5
}
